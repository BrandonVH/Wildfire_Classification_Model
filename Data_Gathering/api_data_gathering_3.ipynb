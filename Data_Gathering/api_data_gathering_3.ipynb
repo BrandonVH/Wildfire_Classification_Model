{
  "nbformat": 4,
  "nbformat_minor": 0,
  "metadata": {
    "colab": {
      "provenance": [],
      "authorship_tag": "ABX9TyNdJFZ257X5G61mw/D7P5wQ"
    },
    "kernelspec": {
      "name": "python3",
      "display_name": "Python 3"
    },
    "language_info": {
      "name": "python"
    }
  },
  "cells": [
    {
      "cell_type": "markdown",
      "source": [
        "# **NASA MODIS Terra NDVI, Collection 6.1 using pyModis**\n",
        "require minimum 5 columns: LATDD83, LONGDD83, YEAR, MONTH, DAY"
      ],
      "metadata": {
        "id": "W8fMqxuDN-cP"
      }
    },
    {
      "cell_type": "code",
      "execution_count": null,
      "metadata": {
        "id": "bR3mOPhXNKPh",
        "colab": {
          "base_uri": "https://localhost:8080/"
        },
        "outputId": "10304dea-68b7-47a6-c9f6-e6056785ea2d"
      },
      "outputs": [
        {
          "output_type": "stream",
          "name": "stdout",
          "text": [
            "Mounted at /content/gdrive\n"
          ]
        }
      ],
      "source": [
        "from google.colab import drive\n",
        "drive.mount('/content/gdrive')"
      ]
    },
    {
      "cell_type": "code",
      "source": [
        "import pandas as pd\n",
        "df = pd.read_csv('gdrive/My Drive/nowildfire.csv')\n",
        "df = df.drop(columns=['Unnamed: 0'])"
      ],
      "metadata": {
        "id": "JxS5g4FpXKQR"
      },
      "execution_count": null,
      "outputs": []
    },
    {
      "cell_type": "code",
      "source": [
        "df.head(10)"
      ],
      "metadata": {
        "colab": {
          "base_uri": "https://localhost:8080/",
          "height": 408
        },
        "id": "CdsTNl5MXONB",
        "outputId": "0ac66759-ae4b-40f2-9bfe-73991779cb02"
      },
      "execution_count": null,
      "outputs": [
        {
          "output_type": "execute_result",
          "data": {
            "text/plain": [
              "     LATDD83    LONGDD83  YEAR  MONTH  DAY  fire   TEMP_MAX   TEMP_MIN  \\\n",
              "0  32.567927 -109.885445  2023      3   18     0  56.072300  36.992302   \n",
              "1  47.195568 -112.708439  2022      4    7     0  44.241798  14.901798   \n",
              "2  34.950160 -114.750660  2022      9   20     0  97.599197  72.129204   \n",
              "3  39.085396 -107.714605  2023      6   27     0  61.292297  50.762299   \n",
              "4  39.308223 -102.862096  2023     10    2     0  80.744904  61.484898   \n",
              "5  34.961509 -114.208403  2023      5   16     0  94.382607  71.792603   \n",
              "6  31.360759 -108.597024  2021      7   28     0  90.933792  66.183800   \n",
              "7  47.072182  -97.679354  2023      3   10     0  29.448500  23.238499   \n",
              "8  35.506113 -113.888563  2021      4    9     0  80.029396  54.829399   \n",
              "9  42.827392 -111.574628  2021     12    2     0  47.192001  30.002001   \n",
              "\n",
              "   AVG_RELATIVE_HUMIDITY  AVG_10M_WIND  ...  AVG_PRECIPITATION  APPARENT_TEMP  \\\n",
              "0              54.880222     14.157670  ...           0.004167      37.486279   \n",
              "1              59.511341      7.067084  ...           0.000000      19.254007   \n",
              "2              18.746798      8.228768  ...           0.000000      80.679665   \n",
              "3              26.994581     23.090561  ...           0.000000      45.404552   \n",
              "4              52.470245     30.046616  ...           0.104167      62.661591   \n",
              "5              22.465042     10.090797  ...           0.000000      80.437500   \n",
              "6              46.847256      8.270101  ...           0.000000      76.940857   \n",
              "7              87.683952     13.249466  ...           0.079167      17.428843   \n",
              "8              10.988235      9.668028  ...           0.000000      62.349628   \n",
              "9              79.691605      9.307274  ...           0.000000      29.713982   \n",
              "\n",
              "   CLOUD_LOW  CLOUD_HIGH  CLOUD_MID      CLOUD  AVG_WEATHER_CONDITION  \\\n",
              "0  27.791666   28.500000   8.250000  43.416668                    0.0   \n",
              "1   0.000000   39.958332   6.375000  42.083332                    2.0   \n",
              "2   0.000000    0.000000   4.958333   4.833333                    0.0   \n",
              "3   0.000000    0.791667  16.500000  16.291666                    0.0   \n",
              "4   0.958333   19.958334   5.750000  21.791666                    0.0   \n",
              "5   0.083333   53.500000  19.250000  64.041664                    2.0   \n",
              "6   0.000000   25.333334  11.708333  34.416668                    1.0   \n",
              "7  72.541664   78.208336  53.458332  95.750000                    3.0   \n",
              "8   0.000000   16.458334   0.000000  16.458334                    0.0   \n",
              "9   0.000000    6.541667   0.000000   5.791667                    0.0   \n",
              "\n",
              "   AVG_SOIL_TEMP  AVG_SOIL_MOISTURE  ELEVATION  \n",
              "0      51.842300           0.263458     1488.0  \n",
              "1      32.395550           0.334917     1988.0  \n",
              "2      91.010445           0.000000      415.0  \n",
              "3      48.583553           0.419792     3238.0  \n",
              "4      72.862404           0.135250     1426.0  \n",
              "5      89.522606           0.023000      619.0  \n",
              "6      84.855049           0.263375     1530.0  \n",
              "7      26.696001           0.227000      352.0  \n",
              "8      71.550652           0.028917      917.0  \n",
              "9      32.559498           0.246500     1877.0  \n",
              "\n",
              "[10 rows x 21 columns]"
            ],
            "text/html": [
              "\n",
              "  <div id=\"df-7483d7ee-60c4-47d6-b7f0-21fd5ba8818c\" class=\"colab-df-container\">\n",
              "    <div>\n",
              "<style scoped>\n",
              "    .dataframe tbody tr th:only-of-type {\n",
              "        vertical-align: middle;\n",
              "    }\n",
              "\n",
              "    .dataframe tbody tr th {\n",
              "        vertical-align: top;\n",
              "    }\n",
              "\n",
              "    .dataframe thead th {\n",
              "        text-align: right;\n",
              "    }\n",
              "</style>\n",
              "<table border=\"1\" class=\"dataframe\">\n",
              "  <thead>\n",
              "    <tr style=\"text-align: right;\">\n",
              "      <th></th>\n",
              "      <th>LATDD83</th>\n",
              "      <th>LONGDD83</th>\n",
              "      <th>YEAR</th>\n",
              "      <th>MONTH</th>\n",
              "      <th>DAY</th>\n",
              "      <th>fire</th>\n",
              "      <th>TEMP_MAX</th>\n",
              "      <th>TEMP_MIN</th>\n",
              "      <th>AVG_RELATIVE_HUMIDITY</th>\n",
              "      <th>AVG_10M_WIND</th>\n",
              "      <th>...</th>\n",
              "      <th>AVG_PRECIPITATION</th>\n",
              "      <th>APPARENT_TEMP</th>\n",
              "      <th>CLOUD_LOW</th>\n",
              "      <th>CLOUD_HIGH</th>\n",
              "      <th>CLOUD_MID</th>\n",
              "      <th>CLOUD</th>\n",
              "      <th>AVG_WEATHER_CONDITION</th>\n",
              "      <th>AVG_SOIL_TEMP</th>\n",
              "      <th>AVG_SOIL_MOISTURE</th>\n",
              "      <th>ELEVATION</th>\n",
              "    </tr>\n",
              "  </thead>\n",
              "  <tbody>\n",
              "    <tr>\n",
              "      <th>0</th>\n",
              "      <td>32.567927</td>\n",
              "      <td>-109.885445</td>\n",
              "      <td>2023</td>\n",
              "      <td>3</td>\n",
              "      <td>18</td>\n",
              "      <td>0</td>\n",
              "      <td>56.072300</td>\n",
              "      <td>36.992302</td>\n",
              "      <td>54.880222</td>\n",
              "      <td>14.157670</td>\n",
              "      <td>...</td>\n",
              "      <td>0.004167</td>\n",
              "      <td>37.486279</td>\n",
              "      <td>27.791666</td>\n",
              "      <td>28.500000</td>\n",
              "      <td>8.250000</td>\n",
              "      <td>43.416668</td>\n",
              "      <td>0.0</td>\n",
              "      <td>51.842300</td>\n",
              "      <td>0.263458</td>\n",
              "      <td>1488.0</td>\n",
              "    </tr>\n",
              "    <tr>\n",
              "      <th>1</th>\n",
              "      <td>47.195568</td>\n",
              "      <td>-112.708439</td>\n",
              "      <td>2022</td>\n",
              "      <td>4</td>\n",
              "      <td>7</td>\n",
              "      <td>0</td>\n",
              "      <td>44.241798</td>\n",
              "      <td>14.901798</td>\n",
              "      <td>59.511341</td>\n",
              "      <td>7.067084</td>\n",
              "      <td>...</td>\n",
              "      <td>0.000000</td>\n",
              "      <td>19.254007</td>\n",
              "      <td>0.000000</td>\n",
              "      <td>39.958332</td>\n",
              "      <td>6.375000</td>\n",
              "      <td>42.083332</td>\n",
              "      <td>2.0</td>\n",
              "      <td>32.395550</td>\n",
              "      <td>0.334917</td>\n",
              "      <td>1988.0</td>\n",
              "    </tr>\n",
              "    <tr>\n",
              "      <th>2</th>\n",
              "      <td>34.950160</td>\n",
              "      <td>-114.750660</td>\n",
              "      <td>2022</td>\n",
              "      <td>9</td>\n",
              "      <td>20</td>\n",
              "      <td>0</td>\n",
              "      <td>97.599197</td>\n",
              "      <td>72.129204</td>\n",
              "      <td>18.746798</td>\n",
              "      <td>8.228768</td>\n",
              "      <td>...</td>\n",
              "      <td>0.000000</td>\n",
              "      <td>80.679665</td>\n",
              "      <td>0.000000</td>\n",
              "      <td>0.000000</td>\n",
              "      <td>4.958333</td>\n",
              "      <td>4.833333</td>\n",
              "      <td>0.0</td>\n",
              "      <td>91.010445</td>\n",
              "      <td>0.000000</td>\n",
              "      <td>415.0</td>\n",
              "    </tr>\n",
              "    <tr>\n",
              "      <th>3</th>\n",
              "      <td>39.085396</td>\n",
              "      <td>-107.714605</td>\n",
              "      <td>2023</td>\n",
              "      <td>6</td>\n",
              "      <td>27</td>\n",
              "      <td>0</td>\n",
              "      <td>61.292297</td>\n",
              "      <td>50.762299</td>\n",
              "      <td>26.994581</td>\n",
              "      <td>23.090561</td>\n",
              "      <td>...</td>\n",
              "      <td>0.000000</td>\n",
              "      <td>45.404552</td>\n",
              "      <td>0.000000</td>\n",
              "      <td>0.791667</td>\n",
              "      <td>16.500000</td>\n",
              "      <td>16.291666</td>\n",
              "      <td>0.0</td>\n",
              "      <td>48.583553</td>\n",
              "      <td>0.419792</td>\n",
              "      <td>3238.0</td>\n",
              "    </tr>\n",
              "    <tr>\n",
              "      <th>4</th>\n",
              "      <td>39.308223</td>\n",
              "      <td>-102.862096</td>\n",
              "      <td>2023</td>\n",
              "      <td>10</td>\n",
              "      <td>2</td>\n",
              "      <td>0</td>\n",
              "      <td>80.744904</td>\n",
              "      <td>61.484898</td>\n",
              "      <td>52.470245</td>\n",
              "      <td>30.046616</td>\n",
              "      <td>...</td>\n",
              "      <td>0.104167</td>\n",
              "      <td>62.661591</td>\n",
              "      <td>0.958333</td>\n",
              "      <td>19.958334</td>\n",
              "      <td>5.750000</td>\n",
              "      <td>21.791666</td>\n",
              "      <td>0.0</td>\n",
              "      <td>72.862404</td>\n",
              "      <td>0.135250</td>\n",
              "      <td>1426.0</td>\n",
              "    </tr>\n",
              "    <tr>\n",
              "      <th>5</th>\n",
              "      <td>34.961509</td>\n",
              "      <td>-114.208403</td>\n",
              "      <td>2023</td>\n",
              "      <td>5</td>\n",
              "      <td>16</td>\n",
              "      <td>0</td>\n",
              "      <td>94.382607</td>\n",
              "      <td>71.792603</td>\n",
              "      <td>22.465042</td>\n",
              "      <td>10.090797</td>\n",
              "      <td>...</td>\n",
              "      <td>0.000000</td>\n",
              "      <td>80.437500</td>\n",
              "      <td>0.083333</td>\n",
              "      <td>53.500000</td>\n",
              "      <td>19.250000</td>\n",
              "      <td>64.041664</td>\n",
              "      <td>2.0</td>\n",
              "      <td>89.522606</td>\n",
              "      <td>0.023000</td>\n",
              "      <td>619.0</td>\n",
              "    </tr>\n",
              "    <tr>\n",
              "      <th>6</th>\n",
              "      <td>31.360759</td>\n",
              "      <td>-108.597024</td>\n",
              "      <td>2021</td>\n",
              "      <td>7</td>\n",
              "      <td>28</td>\n",
              "      <td>0</td>\n",
              "      <td>90.933792</td>\n",
              "      <td>66.183800</td>\n",
              "      <td>46.847256</td>\n",
              "      <td>8.270101</td>\n",
              "      <td>...</td>\n",
              "      <td>0.000000</td>\n",
              "      <td>76.940857</td>\n",
              "      <td>0.000000</td>\n",
              "      <td>25.333334</td>\n",
              "      <td>11.708333</td>\n",
              "      <td>34.416668</td>\n",
              "      <td>1.0</td>\n",
              "      <td>84.855049</td>\n",
              "      <td>0.263375</td>\n",
              "      <td>1530.0</td>\n",
              "    </tr>\n",
              "    <tr>\n",
              "      <th>7</th>\n",
              "      <td>47.072182</td>\n",
              "      <td>-97.679354</td>\n",
              "      <td>2023</td>\n",
              "      <td>3</td>\n",
              "      <td>10</td>\n",
              "      <td>0</td>\n",
              "      <td>29.448500</td>\n",
              "      <td>23.238499</td>\n",
              "      <td>87.683952</td>\n",
              "      <td>13.249466</td>\n",
              "      <td>...</td>\n",
              "      <td>0.079167</td>\n",
              "      <td>17.428843</td>\n",
              "      <td>72.541664</td>\n",
              "      <td>78.208336</td>\n",
              "      <td>53.458332</td>\n",
              "      <td>95.750000</td>\n",
              "      <td>3.0</td>\n",
              "      <td>26.696001</td>\n",
              "      <td>0.227000</td>\n",
              "      <td>352.0</td>\n",
              "    </tr>\n",
              "    <tr>\n",
              "      <th>8</th>\n",
              "      <td>35.506113</td>\n",
              "      <td>-113.888563</td>\n",
              "      <td>2021</td>\n",
              "      <td>4</td>\n",
              "      <td>9</td>\n",
              "      <td>0</td>\n",
              "      <td>80.029396</td>\n",
              "      <td>54.829399</td>\n",
              "      <td>10.988235</td>\n",
              "      <td>9.668028</td>\n",
              "      <td>...</td>\n",
              "      <td>0.000000</td>\n",
              "      <td>62.349628</td>\n",
              "      <td>0.000000</td>\n",
              "      <td>16.458334</td>\n",
              "      <td>0.000000</td>\n",
              "      <td>16.458334</td>\n",
              "      <td>0.0</td>\n",
              "      <td>71.550652</td>\n",
              "      <td>0.028917</td>\n",
              "      <td>917.0</td>\n",
              "    </tr>\n",
              "    <tr>\n",
              "      <th>9</th>\n",
              "      <td>42.827392</td>\n",
              "      <td>-111.574628</td>\n",
              "      <td>2021</td>\n",
              "      <td>12</td>\n",
              "      <td>2</td>\n",
              "      <td>0</td>\n",
              "      <td>47.192001</td>\n",
              "      <td>30.002001</td>\n",
              "      <td>79.691605</td>\n",
              "      <td>9.307274</td>\n",
              "      <td>...</td>\n",
              "      <td>0.000000</td>\n",
              "      <td>29.713982</td>\n",
              "      <td>0.000000</td>\n",
              "      <td>6.541667</td>\n",
              "      <td>0.000000</td>\n",
              "      <td>5.791667</td>\n",
              "      <td>0.0</td>\n",
              "      <td>32.559498</td>\n",
              "      <td>0.246500</td>\n",
              "      <td>1877.0</td>\n",
              "    </tr>\n",
              "  </tbody>\n",
              "</table>\n",
              "<p>10 rows × 21 columns</p>\n",
              "</div>\n",
              "    <div class=\"colab-df-buttons\">\n",
              "\n",
              "  <div class=\"colab-df-container\">\n",
              "    <button class=\"colab-df-convert\" onclick=\"convertToInteractive('df-7483d7ee-60c4-47d6-b7f0-21fd5ba8818c')\"\n",
              "            title=\"Convert this dataframe to an interactive table.\"\n",
              "            style=\"display:none;\">\n",
              "\n",
              "  <svg xmlns=\"http://www.w3.org/2000/svg\" height=\"24px\" viewBox=\"0 -960 960 960\">\n",
              "    <path d=\"M120-120v-720h720v720H120Zm60-500h600v-160H180v160Zm220 220h160v-160H400v160Zm0 220h160v-160H400v160ZM180-400h160v-160H180v160Zm440 0h160v-160H620v160ZM180-180h160v-160H180v160Zm440 0h160v-160H620v160Z\"/>\n",
              "  </svg>\n",
              "    </button>\n",
              "\n",
              "  <style>\n",
              "    .colab-df-container {\n",
              "      display:flex;\n",
              "      gap: 12px;\n",
              "    }\n",
              "\n",
              "    .colab-df-convert {\n",
              "      background-color: #E8F0FE;\n",
              "      border: none;\n",
              "      border-radius: 50%;\n",
              "      cursor: pointer;\n",
              "      display: none;\n",
              "      fill: #1967D2;\n",
              "      height: 32px;\n",
              "      padding: 0 0 0 0;\n",
              "      width: 32px;\n",
              "    }\n",
              "\n",
              "    .colab-df-convert:hover {\n",
              "      background-color: #E2EBFA;\n",
              "      box-shadow: 0px 1px 2px rgba(60, 64, 67, 0.3), 0px 1px 3px 1px rgba(60, 64, 67, 0.15);\n",
              "      fill: #174EA6;\n",
              "    }\n",
              "\n",
              "    .colab-df-buttons div {\n",
              "      margin-bottom: 4px;\n",
              "    }\n",
              "\n",
              "    [theme=dark] .colab-df-convert {\n",
              "      background-color: #3B4455;\n",
              "      fill: #D2E3FC;\n",
              "    }\n",
              "\n",
              "    [theme=dark] .colab-df-convert:hover {\n",
              "      background-color: #434B5C;\n",
              "      box-shadow: 0px 1px 3px 1px rgba(0, 0, 0, 0.15);\n",
              "      filter: drop-shadow(0px 1px 2px rgba(0, 0, 0, 0.3));\n",
              "      fill: #FFFFFF;\n",
              "    }\n",
              "  </style>\n",
              "\n",
              "    <script>\n",
              "      const buttonEl =\n",
              "        document.querySelector('#df-7483d7ee-60c4-47d6-b7f0-21fd5ba8818c button.colab-df-convert');\n",
              "      buttonEl.style.display =\n",
              "        google.colab.kernel.accessAllowed ? 'block' : 'none';\n",
              "\n",
              "      async function convertToInteractive(key) {\n",
              "        const element = document.querySelector('#df-7483d7ee-60c4-47d6-b7f0-21fd5ba8818c');\n",
              "        const dataTable =\n",
              "          await google.colab.kernel.invokeFunction('convertToInteractive',\n",
              "                                                    [key], {});\n",
              "        if (!dataTable) return;\n",
              "\n",
              "        const docLinkHtml = 'Like what you see? Visit the ' +\n",
              "          '<a target=\"_blank\" href=https://colab.research.google.com/notebooks/data_table.ipynb>data table notebook</a>'\n",
              "          + ' to learn more about interactive tables.';\n",
              "        element.innerHTML = '';\n",
              "        dataTable['output_type'] = 'display_data';\n",
              "        await google.colab.output.renderOutput(dataTable, element);\n",
              "        const docLink = document.createElement('div');\n",
              "        docLink.innerHTML = docLinkHtml;\n",
              "        element.appendChild(docLink);\n",
              "      }\n",
              "    </script>\n",
              "  </div>\n",
              "\n",
              "\n",
              "<div id=\"df-9840277b-e9b4-4752-83b3-53041cb5c230\">\n",
              "  <button class=\"colab-df-quickchart\" onclick=\"quickchart('df-9840277b-e9b4-4752-83b3-53041cb5c230')\"\n",
              "            title=\"Suggest charts\"\n",
              "            style=\"display:none;\">\n",
              "\n",
              "<svg xmlns=\"http://www.w3.org/2000/svg\" height=\"24px\"viewBox=\"0 0 24 24\"\n",
              "     width=\"24px\">\n",
              "    <g>\n",
              "        <path d=\"M19 3H5c-1.1 0-2 .9-2 2v14c0 1.1.9 2 2 2h14c1.1 0 2-.9 2-2V5c0-1.1-.9-2-2-2zM9 17H7v-7h2v7zm4 0h-2V7h2v10zm4 0h-2v-4h2v4z\"/>\n",
              "    </g>\n",
              "</svg>\n",
              "  </button>\n",
              "\n",
              "<style>\n",
              "  .colab-df-quickchart {\n",
              "      --bg-color: #E8F0FE;\n",
              "      --fill-color: #1967D2;\n",
              "      --hover-bg-color: #E2EBFA;\n",
              "      --hover-fill-color: #174EA6;\n",
              "      --disabled-fill-color: #AAA;\n",
              "      --disabled-bg-color: #DDD;\n",
              "  }\n",
              "\n",
              "  [theme=dark] .colab-df-quickchart {\n",
              "      --bg-color: #3B4455;\n",
              "      --fill-color: #D2E3FC;\n",
              "      --hover-bg-color: #434B5C;\n",
              "      --hover-fill-color: #FFFFFF;\n",
              "      --disabled-bg-color: #3B4455;\n",
              "      --disabled-fill-color: #666;\n",
              "  }\n",
              "\n",
              "  .colab-df-quickchart {\n",
              "    background-color: var(--bg-color);\n",
              "    border: none;\n",
              "    border-radius: 50%;\n",
              "    cursor: pointer;\n",
              "    display: none;\n",
              "    fill: var(--fill-color);\n",
              "    height: 32px;\n",
              "    padding: 0;\n",
              "    width: 32px;\n",
              "  }\n",
              "\n",
              "  .colab-df-quickchart:hover {\n",
              "    background-color: var(--hover-bg-color);\n",
              "    box-shadow: 0 1px 2px rgba(60, 64, 67, 0.3), 0 1px 3px 1px rgba(60, 64, 67, 0.15);\n",
              "    fill: var(--button-hover-fill-color);\n",
              "  }\n",
              "\n",
              "  .colab-df-quickchart-complete:disabled,\n",
              "  .colab-df-quickchart-complete:disabled:hover {\n",
              "    background-color: var(--disabled-bg-color);\n",
              "    fill: var(--disabled-fill-color);\n",
              "    box-shadow: none;\n",
              "  }\n",
              "\n",
              "  .colab-df-spinner {\n",
              "    border: 2px solid var(--fill-color);\n",
              "    border-color: transparent;\n",
              "    border-bottom-color: var(--fill-color);\n",
              "    animation:\n",
              "      spin 1s steps(1) infinite;\n",
              "  }\n",
              "\n",
              "  @keyframes spin {\n",
              "    0% {\n",
              "      border-color: transparent;\n",
              "      border-bottom-color: var(--fill-color);\n",
              "      border-left-color: var(--fill-color);\n",
              "    }\n",
              "    20% {\n",
              "      border-color: transparent;\n",
              "      border-left-color: var(--fill-color);\n",
              "      border-top-color: var(--fill-color);\n",
              "    }\n",
              "    30% {\n",
              "      border-color: transparent;\n",
              "      border-left-color: var(--fill-color);\n",
              "      border-top-color: var(--fill-color);\n",
              "      border-right-color: var(--fill-color);\n",
              "    }\n",
              "    40% {\n",
              "      border-color: transparent;\n",
              "      border-right-color: var(--fill-color);\n",
              "      border-top-color: var(--fill-color);\n",
              "    }\n",
              "    60% {\n",
              "      border-color: transparent;\n",
              "      border-right-color: var(--fill-color);\n",
              "    }\n",
              "    80% {\n",
              "      border-color: transparent;\n",
              "      border-right-color: var(--fill-color);\n",
              "      border-bottom-color: var(--fill-color);\n",
              "    }\n",
              "    90% {\n",
              "      border-color: transparent;\n",
              "      border-bottom-color: var(--fill-color);\n",
              "    }\n",
              "  }\n",
              "</style>\n",
              "\n",
              "  <script>\n",
              "    async function quickchart(key) {\n",
              "      const quickchartButtonEl =\n",
              "        document.querySelector('#' + key + ' button');\n",
              "      quickchartButtonEl.disabled = true;  // To prevent multiple clicks.\n",
              "      quickchartButtonEl.classList.add('colab-df-spinner');\n",
              "      try {\n",
              "        const charts = await google.colab.kernel.invokeFunction(\n",
              "            'suggestCharts', [key], {});\n",
              "      } catch (error) {\n",
              "        console.error('Error during call to suggestCharts:', error);\n",
              "      }\n",
              "      quickchartButtonEl.classList.remove('colab-df-spinner');\n",
              "      quickchartButtonEl.classList.add('colab-df-quickchart-complete');\n",
              "    }\n",
              "    (() => {\n",
              "      let quickchartButtonEl =\n",
              "        document.querySelector('#df-9840277b-e9b4-4752-83b3-53041cb5c230 button');\n",
              "      quickchartButtonEl.style.display =\n",
              "        google.colab.kernel.accessAllowed ? 'block' : 'none';\n",
              "    })();\n",
              "  </script>\n",
              "</div>\n",
              "\n",
              "    </div>\n",
              "  </div>\n"
            ],
            "application/vnd.google.colaboratory.intrinsic+json": {
              "type": "dataframe",
              "variable_name": "df"
            }
          },
          "metadata": {},
          "execution_count": 3
        }
      ]
    },
    {
      "cell_type": "code",
      "source": [
        "# DON'T RUN. backup install for pyModis\n",
        "# !git clone https://github.com/lucadelu/pyModis.git\n",
        "# !python pyModis/setup.py install"
      ],
      "metadata": {
        "collapsed": true,
        "id": "Cr8HZPqj7WTp"
      },
      "execution_count": null,
      "outputs": []
    },
    {
      "cell_type": "code",
      "source": [
        "!pip install pymodis rasterio"
      ],
      "metadata": {
        "colab": {
          "base_uri": "https://localhost:8080/"
        },
        "id": "iplUfutnjpIA",
        "outputId": "73a190ff-1447-4632-c5a9-3f66952a2119"
      },
      "execution_count": null,
      "outputs": [
        {
          "output_type": "stream",
          "name": "stdout",
          "text": [
            "Collecting pymodis\n",
            "  Downloading pyModis-2.4.1-py3-none-any.whl.metadata (2.5 kB)\n",
            "Collecting rasterio\n",
            "  Downloading rasterio-1.4.3-cp310-cp310-manylinux_2_17_x86_64.manylinux2014_x86_64.whl.metadata (9.1 kB)\n",
            "Requirement already satisfied: numpy in /usr/local/lib/python3.10/dist-packages (from pymodis) (1.26.4)\n",
            "Requirement already satisfied: future in /usr/local/lib/python3.10/dist-packages (from pymodis) (1.0.0)\n",
            "Requirement already satisfied: requests in /usr/local/lib/python3.10/dist-packages (from pymodis) (2.32.3)\n",
            "Requirement already satisfied: GDAL in /usr/local/lib/python3.10/dist-packages (from pymodis) (3.6.4)\n",
            "Collecting affine (from rasterio)\n",
            "  Downloading affine-2.4.0-py3-none-any.whl.metadata (4.0 kB)\n",
            "Requirement already satisfied: attrs in /usr/local/lib/python3.10/dist-packages (from rasterio) (24.3.0)\n",
            "Requirement already satisfied: certifi in /usr/local/lib/python3.10/dist-packages (from rasterio) (2024.12.14)\n",
            "Requirement already satisfied: click>=4.0 in /usr/local/lib/python3.10/dist-packages (from rasterio) (8.1.7)\n",
            "Collecting cligj>=0.5 (from rasterio)\n",
            "  Downloading cligj-0.7.2-py3-none-any.whl.metadata (5.0 kB)\n",
            "Collecting click-plugins (from rasterio)\n",
            "  Downloading click_plugins-1.1.1-py2.py3-none-any.whl.metadata (6.4 kB)\n",
            "Requirement already satisfied: pyparsing in /usr/local/lib/python3.10/dist-packages (from rasterio) (3.2.0)\n",
            "Requirement already satisfied: charset-normalizer<4,>=2 in /usr/local/lib/python3.10/dist-packages (from requests->pymodis) (3.4.0)\n",
            "Requirement already satisfied: idna<4,>=2.5 in /usr/local/lib/python3.10/dist-packages (from requests->pymodis) (3.10)\n",
            "Requirement already satisfied: urllib3<3,>=1.21.1 in /usr/local/lib/python3.10/dist-packages (from requests->pymodis) (2.2.3)\n",
            "Downloading pyModis-2.4.1-py3-none-any.whl (58 kB)\n",
            "\u001b[2K   \u001b[90m━━━━━━━━━━━━━━━━━━━━━━━━━━━━━━━━━━━━━━━━\u001b[0m \u001b[32m58.9/58.9 kB\u001b[0m \u001b[31m2.9 MB/s\u001b[0m eta \u001b[36m0:00:00\u001b[0m\n",
            "\u001b[?25hDownloading rasterio-1.4.3-cp310-cp310-manylinux_2_17_x86_64.manylinux2014_x86_64.whl (22.2 MB)\n",
            "\u001b[2K   \u001b[90m━━━━━━━━━━━━━━━━━━━━━━━━━━━━━━━━━━━━━━━━\u001b[0m \u001b[32m22.2/22.2 MB\u001b[0m \u001b[31m37.1 MB/s\u001b[0m eta \u001b[36m0:00:00\u001b[0m\n",
            "\u001b[?25hDownloading cligj-0.7.2-py3-none-any.whl (7.1 kB)\n",
            "Downloading affine-2.4.0-py3-none-any.whl (15 kB)\n",
            "Downloading click_plugins-1.1.1-py2.py3-none-any.whl (7.5 kB)\n",
            "Installing collected packages: cligj, click-plugins, affine, rasterio, pymodis\n",
            "Successfully installed affine-2.4.0 click-plugins-1.1.1 cligj-0.7.2 pymodis-2.4.1 rasterio-1.4.3\n"
          ]
        }
      ]
    },
    {
      "cell_type": "code",
      "source": [
        "from ast import Assert\n",
        "import os\n",
        "import pandas as pd\n",
        "from datetime import datetime, timedelta, date\n",
        "from pymodis.downmodis import downModis\n",
        "from pymodis.convertmodis_gdal import convertModisGDAL\n",
        "import rasterio\n",
        "from rasterio.warp import transform\n",
        "from rasterio.transform import rowcol\n",
        "\n",
        "import math\n",
        "\n",
        "CELLS = 2400\n",
        "VERTICAL_TILES = 18\n",
        "HORIZONTAL_TILES = 36\n",
        "EARTH_RADIUS = 6371007.181\n",
        "EARTH_WIDTH = 2 * math.pi * EARTH_RADIUS\n",
        "\n",
        "TILE_WIDTH = EARTH_WIDTH / HORIZONTAL_TILES\n",
        "TILE_HEIGHT = TILE_WIDTH\n",
        "CELL_SIZE = TILE_WIDTH / CELLS\n",
        "\n",
        "from pyproj import Proj\n",
        "\n",
        "MODIS_GRID = Proj(f\"+proj=sinu +R={EARTH_RADIUS} +nadgrids=@null +wktext\")\n",
        "\n",
        "\n",
        "def point_to_tile(lat, lon):\n",
        "    x, y = MODIS_GRID(lon, lat)\n",
        "    h = (EARTH_WIDTH * 0.5 + x) / TILE_WIDTH\n",
        "    v = -(EARTH_WIDTH * 0.25 + y - (VERTICAL_TILES - 0) * TILE_HEIGHT) / TILE_HEIGHT\n",
        "    return int(h), int(v)\n",
        "\n",
        "\n",
        "def convert_hdf_to_geotiff(hdf_path, sds_name=\"250m-16-days-ndvi\"):\n",
        "    \"\"\"\n",
        "    Convert the specified subdataset in the HDF to a GeoTIFF in EPSG:4326.\n",
        "    \"\"\"\n",
        "    output_tif = hdf_path.replace(\".hdf\", f\"_{sds_name}.tif\").replace(\" \", \"_\")\n",
        "    if os.path.exists(output_tif):\n",
        "        # Already converted\n",
        "        return output_tif\n",
        "\n",
        "    # missing documentation. Closest is convert()\n",
        "    # http://www.pymodis.org/scripts/modis_convert.html\n",
        "    converter = convertModisGDAL(\n",
        "        hdfname=hdf_path,\n",
        "        outformat=\"GTiff\",\n",
        "        prefix=hdf_path.replace(\".hdf\", \"\"),\n",
        "        epsg=4326,  # reproject to lat/lon\n",
        "        res=None,\n",
        "        subset=[1, 0, 0, 0, 0, 0, 0, 0, 0, 0, 0, 0],\n",
        "        # filter for subdataset \"250m 16 days NDVI\"\n",
        "    )\n",
        "\n",
        "    converter.run(quiet=True)\n",
        "    return output_tif\n",
        "\n",
        "\n",
        "def sample_ndvi(geotiff_path, lat, lon, nodata_value=-3000, scale=0.0001):\n",
        "    \"\"\"\n",
        "    Read NDVI pixel from a GeoTIFF at given lat/lon (in WGS84).\n",
        "    Returns scaled NDVI or -1 if out of bounds or fill/nodata.\n",
        "\n",
        "    default:\n",
        "      nodata_value = -3000\n",
        "      scale = 0.001\n",
        "    \"\"\"\n",
        "    with rasterio.open(geotiff_path) as src:\n",
        "        # Convert lon/lat to row/col\n",
        "        row, col = rowcol(src.transform, lon, lat)\n",
        "\n",
        "        if row < 0 or row >= src.height or col < 0 or col >= src.width:\n",
        "            return -1\n",
        "\n",
        "        # Read the pixel\n",
        "        ndvi_array = src.read(1)\n",
        "        val = ndvi_array[row, col]\n",
        "\n",
        "        if val == src.nodata or val == nodata_value:\n",
        "            return -1\n",
        "\n",
        "        # Apply scale factor\n",
        "        val = val * scale\n",
        "        return val\n",
        "\n",
        "\n",
        "def get_geotiff_path(h, v, yyyy, doy, sds_name=\"250m-16-days-ndvi\", out_dir=\"MODIS_data\"):\n",
        "    \"\"\"\n",
        "    Given tile (h,v), date, and SDS name, build the expected GeoTIFF filename.\n",
        "    This depends on how the .hdf is named after download.\n",
        "    exmaple (hdf -> tif):\n",
        "      MOD13Q1.A2023349.h11v03.061.2023360202430.hdf\n",
        "      MOD13Q1.A2023349.h11v03.061.2023360202430_250m-16-days-ndvi.tif\n",
        "    \"\"\"\n",
        "    # naive approach\n",
        "    base_pattern = f\"h{int(h):02d}v{int(v):02d}\"\n",
        "\n",
        "    for root, dirs, files in os.walk(out_dir):\n",
        "        for f in files:\n",
        "            # look for a file containing tile pattern and within 16 days of doy\n",
        "            # example: MOD13Q1.A2022193.h10v04.061.2022215010252_250m-16-days-ndvi.tif\n",
        "            if f.endswith(f\"{sds_name}.tif\") and base_pattern in f:\n",
        "                try:\n",
        "                  fstr = f.split(\".\")[1]\n",
        "                  Assert(len(fstr) == 8)\n",
        "                except:\n",
        "                  print(\"AN ERROR HAS OCCURED: incorrect .tif format: \", f)\n",
        "                  continue\n",
        "                f_yyyy = int(fstr[1:5])\n",
        "                f_doy = int(fstr[5:])\n",
        "                f_date = get_date_from_doy(f_yyyy, f_doy)\n",
        "                c_date = get_date_from_doy(yyyy, doy)\n",
        "                date_delta = (c_date - f_date).days\n",
        "                if date_delta >= 0 and date_delta < 16:\n",
        "                  return os.path.join(root, f)\n",
        "            else:\n",
        "              if not f.endswith(f\"{sds_name}.tif\"):\n",
        "                print(\"tif error\")\n",
        "    return None\n",
        "\n",
        "\n",
        "def remove_suffix_in_MODIS_data(suf):\n",
        "    \"\"\"\n",
        "    Remove all files that end with \".'suf'\" in MODIS_data\n",
        "    \"\"\"\n",
        "    cwd = os.getcwd()\n",
        "    dir_name = os.path.join(cwd, \"MODIS_data\")\n",
        "    modis_data = os.listdir(dir_name)\n",
        "\n",
        "    for item in modis_data:\n",
        "        if item.endswith(\".\" + suf):\n",
        "            os.remove(os.path.join(dir_name, item))\n",
        "\n",
        "def get_date_from_doy(yyyy, doy):\n",
        "    return (datetime(yyyy, 1, 1) + timedelta(days=doy - 1)).date()\n"
      ],
      "metadata": {
        "id": "yqc3GVE-A9Gc"
      },
      "execution_count": 51,
      "outputs": []
    },
    {
      "cell_type": "code",
      "source": [
        "def date_to_doy(year, month, day):\n",
        "    return datetime(int(year), int(month), int(day)).strftime(\"%j\")\n",
        "\n",
        "# For each row, find (h, v) tile and the day-of-year\n",
        "def get_tile_date_info(row):\n",
        "    h, v = point_to_tile(row[\"LATDD83\"], row[\"LONGDD83\"])\n",
        "    doy = date_to_doy(row[\"YEAR\"], row[\"MONTH\"], row[\"DAY\"])\n",
        "    return h, v, doy\n",
        "\n",
        "df[[\"h\", \"v\", \"doy\"]] = df.apply(\n",
        "    lambda r: pd.Series(get_tile_date_info(r)),\n",
        "    axis=1\n",
        ")\n",
        "\n",
        "# We can group by (h, v, YEAR, MONTH, DAY, doy) to know each tile-date combination we need\n",
        "tile_date_groups = df.groupby([\"h\", \"v\", \"YEAR\", \"MONTH\"])\n",
        "\n",
        "tile_date_groups.head()"
      ],
      "metadata": {
        "colab": {
          "base_uri": "https://localhost:8080/",
          "height": 439
        },
        "id": "kKhObuNMInxt",
        "outputId": "ae86811d-e491-4217-a4df-5410e9d9a7ba"
      },
      "execution_count": null,
      "outputs": [
        {
          "output_type": "execute_result",
          "data": {
            "text/plain": [
              "         LATDD83    LONGDD83  YEAR  MONTH  DAY  fire   TEMP_MAX   TEMP_MIN  \\\n",
              "0      32.567927 -109.885445  2023      3   18     0  56.072300  36.992302   \n",
              "1      47.195568 -112.708439  2022      4    7     0  44.241798  14.901798   \n",
              "2      34.950160 -114.750660  2022      9   20     0  97.599197  72.129204   \n",
              "3      39.085396 -107.714605  2023      6   27     0  61.292297  50.762299   \n",
              "4      39.308223 -102.862096  2023     10    2     0  80.744904  61.484898   \n",
              "...          ...         ...   ...    ...  ...   ...        ...        ...   \n",
              "19349  25.323621  -80.763161  2023      1    5     0  84.066795  67.416794   \n",
              "19367  28.203178  -81.436587  2021      8   24     0  87.811699  76.381699   \n",
              "19369  28.368494  -81.976497  2021      3   20     0  67.921700  53.971699   \n",
              "19661  46.155184  -86.203871  2023      3   26     0  38.186600  23.696600   \n",
              "19804  46.253589  -86.009101  2022      8    5     0  79.430000  58.099998   \n",
              "\n",
              "       AVG_RELATIVE_HUMIDITY  AVG_10M_WIND  ...  CLOUD_HIGH  CLOUD_MID  \\\n",
              "0                  54.880222     14.157670  ...   28.500000   8.250000   \n",
              "1                  59.511341      7.067084  ...   39.958332   6.375000   \n",
              "2                  18.746798      8.228768  ...    0.000000   4.958333   \n",
              "3                  26.994581     23.090561  ...    0.791667  16.500000   \n",
              "4                  52.470245     30.046616  ...   19.958334   5.750000   \n",
              "...                      ...           ...  ...         ...        ...   \n",
              "19349              80.211708      9.005922  ...   22.458334   0.958333   \n",
              "19367              85.001404      6.144155  ...   95.250000  66.375000   \n",
              "19369              73.076576     14.177795  ...    0.000000   5.875000   \n",
              "19661              75.913567     11.866425  ...   34.916668  15.458333   \n",
              "19804              69.991035      7.939641  ...    3.791667   0.000000   \n",
              "\n",
              "           CLOUD  AVG_WEATHER_CONDITION  AVG_SOIL_TEMP  AVG_SOIL_MOISTURE  \\\n",
              "0      43.416668                    0.0      51.842300           0.263458   \n",
              "1      42.083332                    2.0      32.395550           0.334917   \n",
              "2       4.833333                    0.0      91.010445           0.000000   \n",
              "3      16.291666                    0.0      48.583553           0.419792   \n",
              "4      21.791666                    0.0      72.862404           0.135250   \n",
              "...          ...                    ...            ...                ...   \n",
              "19349  22.875000                    0.0      76.146797           0.103542   \n",
              "19367  97.750000                    3.0      81.886696           0.233333   \n",
              "19369  50.916668                    0.0      62.772949           0.081875   \n",
              "19661  51.083332                    3.0      30.825348           0.265000   \n",
              "19804   3.791667                    0.0      69.125000           0.160458   \n",
              "\n",
              "       ELEVATION   h  v  doy  \n",
              "0         1488.0   8  5  077  \n",
              "1         1988.0  10  4  097  \n",
              "2          415.0   8  5  263  \n",
              "3         3238.0   9  5  178  \n",
              "4         1426.0  10  5  275  \n",
              "...          ...  .. ..  ...  \n",
              "19349        0.0  10  6  005  \n",
              "19367       21.0  10  6  236  \n",
              "19369       36.0  10  6  079  \n",
              "19661      208.0  12  4  085  \n",
              "19804      211.0  12  4  217  \n",
              "\n",
              "[1367 rows x 24 columns]"
            ],
            "text/html": [
              "\n",
              "  <div id=\"df-582dd360-5a8f-4bab-bf9b-ad2c9e2853e3\" class=\"colab-df-container\">\n",
              "    <div>\n",
              "<style scoped>\n",
              "    .dataframe tbody tr th:only-of-type {\n",
              "        vertical-align: middle;\n",
              "    }\n",
              "\n",
              "    .dataframe tbody tr th {\n",
              "        vertical-align: top;\n",
              "    }\n",
              "\n",
              "    .dataframe thead th {\n",
              "        text-align: right;\n",
              "    }\n",
              "</style>\n",
              "<table border=\"1\" class=\"dataframe\">\n",
              "  <thead>\n",
              "    <tr style=\"text-align: right;\">\n",
              "      <th></th>\n",
              "      <th>LATDD83</th>\n",
              "      <th>LONGDD83</th>\n",
              "      <th>YEAR</th>\n",
              "      <th>MONTH</th>\n",
              "      <th>DAY</th>\n",
              "      <th>fire</th>\n",
              "      <th>TEMP_MAX</th>\n",
              "      <th>TEMP_MIN</th>\n",
              "      <th>AVG_RELATIVE_HUMIDITY</th>\n",
              "      <th>AVG_10M_WIND</th>\n",
              "      <th>...</th>\n",
              "      <th>CLOUD_HIGH</th>\n",
              "      <th>CLOUD_MID</th>\n",
              "      <th>CLOUD</th>\n",
              "      <th>AVG_WEATHER_CONDITION</th>\n",
              "      <th>AVG_SOIL_TEMP</th>\n",
              "      <th>AVG_SOIL_MOISTURE</th>\n",
              "      <th>ELEVATION</th>\n",
              "      <th>h</th>\n",
              "      <th>v</th>\n",
              "      <th>doy</th>\n",
              "    </tr>\n",
              "  </thead>\n",
              "  <tbody>\n",
              "    <tr>\n",
              "      <th>0</th>\n",
              "      <td>32.567927</td>\n",
              "      <td>-109.885445</td>\n",
              "      <td>2023</td>\n",
              "      <td>3</td>\n",
              "      <td>18</td>\n",
              "      <td>0</td>\n",
              "      <td>56.072300</td>\n",
              "      <td>36.992302</td>\n",
              "      <td>54.880222</td>\n",
              "      <td>14.157670</td>\n",
              "      <td>...</td>\n",
              "      <td>28.500000</td>\n",
              "      <td>8.250000</td>\n",
              "      <td>43.416668</td>\n",
              "      <td>0.0</td>\n",
              "      <td>51.842300</td>\n",
              "      <td>0.263458</td>\n",
              "      <td>1488.0</td>\n",
              "      <td>8</td>\n",
              "      <td>5</td>\n",
              "      <td>077</td>\n",
              "    </tr>\n",
              "    <tr>\n",
              "      <th>1</th>\n",
              "      <td>47.195568</td>\n",
              "      <td>-112.708439</td>\n",
              "      <td>2022</td>\n",
              "      <td>4</td>\n",
              "      <td>7</td>\n",
              "      <td>0</td>\n",
              "      <td>44.241798</td>\n",
              "      <td>14.901798</td>\n",
              "      <td>59.511341</td>\n",
              "      <td>7.067084</td>\n",
              "      <td>...</td>\n",
              "      <td>39.958332</td>\n",
              "      <td>6.375000</td>\n",
              "      <td>42.083332</td>\n",
              "      <td>2.0</td>\n",
              "      <td>32.395550</td>\n",
              "      <td>0.334917</td>\n",
              "      <td>1988.0</td>\n",
              "      <td>10</td>\n",
              "      <td>4</td>\n",
              "      <td>097</td>\n",
              "    </tr>\n",
              "    <tr>\n",
              "      <th>2</th>\n",
              "      <td>34.950160</td>\n",
              "      <td>-114.750660</td>\n",
              "      <td>2022</td>\n",
              "      <td>9</td>\n",
              "      <td>20</td>\n",
              "      <td>0</td>\n",
              "      <td>97.599197</td>\n",
              "      <td>72.129204</td>\n",
              "      <td>18.746798</td>\n",
              "      <td>8.228768</td>\n",
              "      <td>...</td>\n",
              "      <td>0.000000</td>\n",
              "      <td>4.958333</td>\n",
              "      <td>4.833333</td>\n",
              "      <td>0.0</td>\n",
              "      <td>91.010445</td>\n",
              "      <td>0.000000</td>\n",
              "      <td>415.0</td>\n",
              "      <td>8</td>\n",
              "      <td>5</td>\n",
              "      <td>263</td>\n",
              "    </tr>\n",
              "    <tr>\n",
              "      <th>3</th>\n",
              "      <td>39.085396</td>\n",
              "      <td>-107.714605</td>\n",
              "      <td>2023</td>\n",
              "      <td>6</td>\n",
              "      <td>27</td>\n",
              "      <td>0</td>\n",
              "      <td>61.292297</td>\n",
              "      <td>50.762299</td>\n",
              "      <td>26.994581</td>\n",
              "      <td>23.090561</td>\n",
              "      <td>...</td>\n",
              "      <td>0.791667</td>\n",
              "      <td>16.500000</td>\n",
              "      <td>16.291666</td>\n",
              "      <td>0.0</td>\n",
              "      <td>48.583553</td>\n",
              "      <td>0.419792</td>\n",
              "      <td>3238.0</td>\n",
              "      <td>9</td>\n",
              "      <td>5</td>\n",
              "      <td>178</td>\n",
              "    </tr>\n",
              "    <tr>\n",
              "      <th>4</th>\n",
              "      <td>39.308223</td>\n",
              "      <td>-102.862096</td>\n",
              "      <td>2023</td>\n",
              "      <td>10</td>\n",
              "      <td>2</td>\n",
              "      <td>0</td>\n",
              "      <td>80.744904</td>\n",
              "      <td>61.484898</td>\n",
              "      <td>52.470245</td>\n",
              "      <td>30.046616</td>\n",
              "      <td>...</td>\n",
              "      <td>19.958334</td>\n",
              "      <td>5.750000</td>\n",
              "      <td>21.791666</td>\n",
              "      <td>0.0</td>\n",
              "      <td>72.862404</td>\n",
              "      <td>0.135250</td>\n",
              "      <td>1426.0</td>\n",
              "      <td>10</td>\n",
              "      <td>5</td>\n",
              "      <td>275</td>\n",
              "    </tr>\n",
              "    <tr>\n",
              "      <th>...</th>\n",
              "      <td>...</td>\n",
              "      <td>...</td>\n",
              "      <td>...</td>\n",
              "      <td>...</td>\n",
              "      <td>...</td>\n",
              "      <td>...</td>\n",
              "      <td>...</td>\n",
              "      <td>...</td>\n",
              "      <td>...</td>\n",
              "      <td>...</td>\n",
              "      <td>...</td>\n",
              "      <td>...</td>\n",
              "      <td>...</td>\n",
              "      <td>...</td>\n",
              "      <td>...</td>\n",
              "      <td>...</td>\n",
              "      <td>...</td>\n",
              "      <td>...</td>\n",
              "      <td>...</td>\n",
              "      <td>...</td>\n",
              "      <td>...</td>\n",
              "    </tr>\n",
              "    <tr>\n",
              "      <th>19349</th>\n",
              "      <td>25.323621</td>\n",
              "      <td>-80.763161</td>\n",
              "      <td>2023</td>\n",
              "      <td>1</td>\n",
              "      <td>5</td>\n",
              "      <td>0</td>\n",
              "      <td>84.066795</td>\n",
              "      <td>67.416794</td>\n",
              "      <td>80.211708</td>\n",
              "      <td>9.005922</td>\n",
              "      <td>...</td>\n",
              "      <td>22.458334</td>\n",
              "      <td>0.958333</td>\n",
              "      <td>22.875000</td>\n",
              "      <td>0.0</td>\n",
              "      <td>76.146797</td>\n",
              "      <td>0.103542</td>\n",
              "      <td>0.0</td>\n",
              "      <td>10</td>\n",
              "      <td>6</td>\n",
              "      <td>005</td>\n",
              "    </tr>\n",
              "    <tr>\n",
              "      <th>19367</th>\n",
              "      <td>28.203178</td>\n",
              "      <td>-81.436587</td>\n",
              "      <td>2021</td>\n",
              "      <td>8</td>\n",
              "      <td>24</td>\n",
              "      <td>0</td>\n",
              "      <td>87.811699</td>\n",
              "      <td>76.381699</td>\n",
              "      <td>85.001404</td>\n",
              "      <td>6.144155</td>\n",
              "      <td>...</td>\n",
              "      <td>95.250000</td>\n",
              "      <td>66.375000</td>\n",
              "      <td>97.750000</td>\n",
              "      <td>3.0</td>\n",
              "      <td>81.886696</td>\n",
              "      <td>0.233333</td>\n",
              "      <td>21.0</td>\n",
              "      <td>10</td>\n",
              "      <td>6</td>\n",
              "      <td>236</td>\n",
              "    </tr>\n",
              "    <tr>\n",
              "      <th>19369</th>\n",
              "      <td>28.368494</td>\n",
              "      <td>-81.976497</td>\n",
              "      <td>2021</td>\n",
              "      <td>3</td>\n",
              "      <td>20</td>\n",
              "      <td>0</td>\n",
              "      <td>67.921700</td>\n",
              "      <td>53.971699</td>\n",
              "      <td>73.076576</td>\n",
              "      <td>14.177795</td>\n",
              "      <td>...</td>\n",
              "      <td>0.000000</td>\n",
              "      <td>5.875000</td>\n",
              "      <td>50.916668</td>\n",
              "      <td>0.0</td>\n",
              "      <td>62.772949</td>\n",
              "      <td>0.081875</td>\n",
              "      <td>36.0</td>\n",
              "      <td>10</td>\n",
              "      <td>6</td>\n",
              "      <td>079</td>\n",
              "    </tr>\n",
              "    <tr>\n",
              "      <th>19661</th>\n",
              "      <td>46.155184</td>\n",
              "      <td>-86.203871</td>\n",
              "      <td>2023</td>\n",
              "      <td>3</td>\n",
              "      <td>26</td>\n",
              "      <td>0</td>\n",
              "      <td>38.186600</td>\n",
              "      <td>23.696600</td>\n",
              "      <td>75.913567</td>\n",
              "      <td>11.866425</td>\n",
              "      <td>...</td>\n",
              "      <td>34.916668</td>\n",
              "      <td>15.458333</td>\n",
              "      <td>51.083332</td>\n",
              "      <td>3.0</td>\n",
              "      <td>30.825348</td>\n",
              "      <td>0.265000</td>\n",
              "      <td>208.0</td>\n",
              "      <td>12</td>\n",
              "      <td>4</td>\n",
              "      <td>085</td>\n",
              "    </tr>\n",
              "    <tr>\n",
              "      <th>19804</th>\n",
              "      <td>46.253589</td>\n",
              "      <td>-86.009101</td>\n",
              "      <td>2022</td>\n",
              "      <td>8</td>\n",
              "      <td>5</td>\n",
              "      <td>0</td>\n",
              "      <td>79.430000</td>\n",
              "      <td>58.099998</td>\n",
              "      <td>69.991035</td>\n",
              "      <td>7.939641</td>\n",
              "      <td>...</td>\n",
              "      <td>3.791667</td>\n",
              "      <td>0.000000</td>\n",
              "      <td>3.791667</td>\n",
              "      <td>0.0</td>\n",
              "      <td>69.125000</td>\n",
              "      <td>0.160458</td>\n",
              "      <td>211.0</td>\n",
              "      <td>12</td>\n",
              "      <td>4</td>\n",
              "      <td>217</td>\n",
              "    </tr>\n",
              "  </tbody>\n",
              "</table>\n",
              "<p>1367 rows × 24 columns</p>\n",
              "</div>\n",
              "    <div class=\"colab-df-buttons\">\n",
              "\n",
              "  <div class=\"colab-df-container\">\n",
              "    <button class=\"colab-df-convert\" onclick=\"convertToInteractive('df-582dd360-5a8f-4bab-bf9b-ad2c9e2853e3')\"\n",
              "            title=\"Convert this dataframe to an interactive table.\"\n",
              "            style=\"display:none;\">\n",
              "\n",
              "  <svg xmlns=\"http://www.w3.org/2000/svg\" height=\"24px\" viewBox=\"0 -960 960 960\">\n",
              "    <path d=\"M120-120v-720h720v720H120Zm60-500h600v-160H180v160Zm220 220h160v-160H400v160Zm0 220h160v-160H400v160ZM180-400h160v-160H180v160Zm440 0h160v-160H620v160ZM180-180h160v-160H180v160Zm440 0h160v-160H620v160Z\"/>\n",
              "  </svg>\n",
              "    </button>\n",
              "\n",
              "  <style>\n",
              "    .colab-df-container {\n",
              "      display:flex;\n",
              "      gap: 12px;\n",
              "    }\n",
              "\n",
              "    .colab-df-convert {\n",
              "      background-color: #E8F0FE;\n",
              "      border: none;\n",
              "      border-radius: 50%;\n",
              "      cursor: pointer;\n",
              "      display: none;\n",
              "      fill: #1967D2;\n",
              "      height: 32px;\n",
              "      padding: 0 0 0 0;\n",
              "      width: 32px;\n",
              "    }\n",
              "\n",
              "    .colab-df-convert:hover {\n",
              "      background-color: #E2EBFA;\n",
              "      box-shadow: 0px 1px 2px rgba(60, 64, 67, 0.3), 0px 1px 3px 1px rgba(60, 64, 67, 0.15);\n",
              "      fill: #174EA6;\n",
              "    }\n",
              "\n",
              "    .colab-df-buttons div {\n",
              "      margin-bottom: 4px;\n",
              "    }\n",
              "\n",
              "    [theme=dark] .colab-df-convert {\n",
              "      background-color: #3B4455;\n",
              "      fill: #D2E3FC;\n",
              "    }\n",
              "\n",
              "    [theme=dark] .colab-df-convert:hover {\n",
              "      background-color: #434B5C;\n",
              "      box-shadow: 0px 1px 3px 1px rgba(0, 0, 0, 0.15);\n",
              "      filter: drop-shadow(0px 1px 2px rgba(0, 0, 0, 0.3));\n",
              "      fill: #FFFFFF;\n",
              "    }\n",
              "  </style>\n",
              "\n",
              "    <script>\n",
              "      const buttonEl =\n",
              "        document.querySelector('#df-582dd360-5a8f-4bab-bf9b-ad2c9e2853e3 button.colab-df-convert');\n",
              "      buttonEl.style.display =\n",
              "        google.colab.kernel.accessAllowed ? 'block' : 'none';\n",
              "\n",
              "      async function convertToInteractive(key) {\n",
              "        const element = document.querySelector('#df-582dd360-5a8f-4bab-bf9b-ad2c9e2853e3');\n",
              "        const dataTable =\n",
              "          await google.colab.kernel.invokeFunction('convertToInteractive',\n",
              "                                                    [key], {});\n",
              "        if (!dataTable) return;\n",
              "\n",
              "        const docLinkHtml = 'Like what you see? Visit the ' +\n",
              "          '<a target=\"_blank\" href=https://colab.research.google.com/notebooks/data_table.ipynb>data table notebook</a>'\n",
              "          + ' to learn more about interactive tables.';\n",
              "        element.innerHTML = '';\n",
              "        dataTable['output_type'] = 'display_data';\n",
              "        await google.colab.output.renderOutput(dataTable, element);\n",
              "        const docLink = document.createElement('div');\n",
              "        docLink.innerHTML = docLinkHtml;\n",
              "        element.appendChild(docLink);\n",
              "      }\n",
              "    </script>\n",
              "  </div>\n",
              "\n",
              "\n",
              "<div id=\"df-5b3ec8bc-22ec-4723-9e07-2feb5119b30b\">\n",
              "  <button class=\"colab-df-quickchart\" onclick=\"quickchart('df-5b3ec8bc-22ec-4723-9e07-2feb5119b30b')\"\n",
              "            title=\"Suggest charts\"\n",
              "            style=\"display:none;\">\n",
              "\n",
              "<svg xmlns=\"http://www.w3.org/2000/svg\" height=\"24px\"viewBox=\"0 0 24 24\"\n",
              "     width=\"24px\">\n",
              "    <g>\n",
              "        <path d=\"M19 3H5c-1.1 0-2 .9-2 2v14c0 1.1.9 2 2 2h14c1.1 0 2-.9 2-2V5c0-1.1-.9-2-2-2zM9 17H7v-7h2v7zm4 0h-2V7h2v10zm4 0h-2v-4h2v4z\"/>\n",
              "    </g>\n",
              "</svg>\n",
              "  </button>\n",
              "\n",
              "<style>\n",
              "  .colab-df-quickchart {\n",
              "      --bg-color: #E8F0FE;\n",
              "      --fill-color: #1967D2;\n",
              "      --hover-bg-color: #E2EBFA;\n",
              "      --hover-fill-color: #174EA6;\n",
              "      --disabled-fill-color: #AAA;\n",
              "      --disabled-bg-color: #DDD;\n",
              "  }\n",
              "\n",
              "  [theme=dark] .colab-df-quickchart {\n",
              "      --bg-color: #3B4455;\n",
              "      --fill-color: #D2E3FC;\n",
              "      --hover-bg-color: #434B5C;\n",
              "      --hover-fill-color: #FFFFFF;\n",
              "      --disabled-bg-color: #3B4455;\n",
              "      --disabled-fill-color: #666;\n",
              "  }\n",
              "\n",
              "  .colab-df-quickchart {\n",
              "    background-color: var(--bg-color);\n",
              "    border: none;\n",
              "    border-radius: 50%;\n",
              "    cursor: pointer;\n",
              "    display: none;\n",
              "    fill: var(--fill-color);\n",
              "    height: 32px;\n",
              "    padding: 0;\n",
              "    width: 32px;\n",
              "  }\n",
              "\n",
              "  .colab-df-quickchart:hover {\n",
              "    background-color: var(--hover-bg-color);\n",
              "    box-shadow: 0 1px 2px rgba(60, 64, 67, 0.3), 0 1px 3px 1px rgba(60, 64, 67, 0.15);\n",
              "    fill: var(--button-hover-fill-color);\n",
              "  }\n",
              "\n",
              "  .colab-df-quickchart-complete:disabled,\n",
              "  .colab-df-quickchart-complete:disabled:hover {\n",
              "    background-color: var(--disabled-bg-color);\n",
              "    fill: var(--disabled-fill-color);\n",
              "    box-shadow: none;\n",
              "  }\n",
              "\n",
              "  .colab-df-spinner {\n",
              "    border: 2px solid var(--fill-color);\n",
              "    border-color: transparent;\n",
              "    border-bottom-color: var(--fill-color);\n",
              "    animation:\n",
              "      spin 1s steps(1) infinite;\n",
              "  }\n",
              "\n",
              "  @keyframes spin {\n",
              "    0% {\n",
              "      border-color: transparent;\n",
              "      border-bottom-color: var(--fill-color);\n",
              "      border-left-color: var(--fill-color);\n",
              "    }\n",
              "    20% {\n",
              "      border-color: transparent;\n",
              "      border-left-color: var(--fill-color);\n",
              "      border-top-color: var(--fill-color);\n",
              "    }\n",
              "    30% {\n",
              "      border-color: transparent;\n",
              "      border-left-color: var(--fill-color);\n",
              "      border-top-color: var(--fill-color);\n",
              "      border-right-color: var(--fill-color);\n",
              "    }\n",
              "    40% {\n",
              "      border-color: transparent;\n",
              "      border-right-color: var(--fill-color);\n",
              "      border-top-color: var(--fill-color);\n",
              "    }\n",
              "    60% {\n",
              "      border-color: transparent;\n",
              "      border-right-color: var(--fill-color);\n",
              "    }\n",
              "    80% {\n",
              "      border-color: transparent;\n",
              "      border-right-color: var(--fill-color);\n",
              "      border-bottom-color: var(--fill-color);\n",
              "    }\n",
              "    90% {\n",
              "      border-color: transparent;\n",
              "      border-bottom-color: var(--fill-color);\n",
              "    }\n",
              "  }\n",
              "</style>\n",
              "\n",
              "  <script>\n",
              "    async function quickchart(key) {\n",
              "      const quickchartButtonEl =\n",
              "        document.querySelector('#' + key + ' button');\n",
              "      quickchartButtonEl.disabled = true;  // To prevent multiple clicks.\n",
              "      quickchartButtonEl.classList.add('colab-df-spinner');\n",
              "      try {\n",
              "        const charts = await google.colab.kernel.invokeFunction(\n",
              "            'suggestCharts', [key], {});\n",
              "      } catch (error) {\n",
              "        console.error('Error during call to suggestCharts:', error);\n",
              "      }\n",
              "      quickchartButtonEl.classList.remove('colab-df-spinner');\n",
              "      quickchartButtonEl.classList.add('colab-df-quickchart-complete');\n",
              "    }\n",
              "    (() => {\n",
              "      let quickchartButtonEl =\n",
              "        document.querySelector('#df-5b3ec8bc-22ec-4723-9e07-2feb5119b30b button');\n",
              "      quickchartButtonEl.style.display =\n",
              "        google.colab.kernel.accessAllowed ? 'block' : 'none';\n",
              "    })();\n",
              "  </script>\n",
              "</div>\n",
              "\n",
              "    </div>\n",
              "  </div>\n"
            ],
            "application/vnd.google.colaboratory.intrinsic+json": {
              "type": "dataframe"
            }
          },
          "metadata": {},
          "execution_count": 6
        }
      ]
    },
    {
      "cell_type": "code",
      "source": [
        "from google.colab import userdata\n",
        "\n",
        "NASA_USER = userdata.get('NASA_USER')\n",
        "NASA_PASS = userdata.get('NASA_PASS')\n",
        "PRODUCT = \"MOD13Q1.061\"  # Terra NDVI, Collection 6.1\n",
        "\n",
        "destination_folder = \"MODIS_data\"\n",
        "os.makedirs(destination_folder, exist_ok=True)\n",
        "\n",
        "print(\"setup complete!\")\n",
        "\n",
        "unique_tile_dates = tile_date_groups.size().reset_index(name='occ').sort_values(by=['occ'], ascending=False)\n",
        "print(\"len: \", len(unique_tile_dates))\n",
        "unique_tile_dates.head() # expected columns: h, v, YEAR, doy, occ"
      ],
      "metadata": {
        "colab": {
          "base_uri": "https://localhost:8080/",
          "height": 238
        },
        "id": "MjftR5-lMNk5",
        "outputId": "e74d9dc5-2026-427a-f754-942fed4e5313"
      },
      "execution_count": null,
      "outputs": [
        {
          "output_type": "stream",
          "name": "stdout",
          "text": [
            "setup complete!\n",
            "len:  307\n"
          ]
        },
        {
          "output_type": "execute_result",
          "data": {
            "text/plain": [
              "      h  v  YEAR  MONTH  occ\n",
              "174  10  4  2023      7  219\n",
              "162  10  4  2022      7  217\n",
              "175  10  4  2023      8  215\n",
              "177  10  4  2023     10  214\n",
              "173  10  4  2023      6  214"
            ],
            "text/html": [
              "\n",
              "  <div id=\"df-d91ae113-2630-489b-bb21-dcf5dda602de\" class=\"colab-df-container\">\n",
              "    <div>\n",
              "<style scoped>\n",
              "    .dataframe tbody tr th:only-of-type {\n",
              "        vertical-align: middle;\n",
              "    }\n",
              "\n",
              "    .dataframe tbody tr th {\n",
              "        vertical-align: top;\n",
              "    }\n",
              "\n",
              "    .dataframe thead th {\n",
              "        text-align: right;\n",
              "    }\n",
              "</style>\n",
              "<table border=\"1\" class=\"dataframe\">\n",
              "  <thead>\n",
              "    <tr style=\"text-align: right;\">\n",
              "      <th></th>\n",
              "      <th>h</th>\n",
              "      <th>v</th>\n",
              "      <th>YEAR</th>\n",
              "      <th>MONTH</th>\n",
              "      <th>occ</th>\n",
              "    </tr>\n",
              "  </thead>\n",
              "  <tbody>\n",
              "    <tr>\n",
              "      <th>174</th>\n",
              "      <td>10</td>\n",
              "      <td>4</td>\n",
              "      <td>2023</td>\n",
              "      <td>7</td>\n",
              "      <td>219</td>\n",
              "    </tr>\n",
              "    <tr>\n",
              "      <th>162</th>\n",
              "      <td>10</td>\n",
              "      <td>4</td>\n",
              "      <td>2022</td>\n",
              "      <td>7</td>\n",
              "      <td>217</td>\n",
              "    </tr>\n",
              "    <tr>\n",
              "      <th>175</th>\n",
              "      <td>10</td>\n",
              "      <td>4</td>\n",
              "      <td>2023</td>\n",
              "      <td>8</td>\n",
              "      <td>215</td>\n",
              "    </tr>\n",
              "    <tr>\n",
              "      <th>177</th>\n",
              "      <td>10</td>\n",
              "      <td>4</td>\n",
              "      <td>2023</td>\n",
              "      <td>10</td>\n",
              "      <td>214</td>\n",
              "    </tr>\n",
              "    <tr>\n",
              "      <th>173</th>\n",
              "      <td>10</td>\n",
              "      <td>4</td>\n",
              "      <td>2023</td>\n",
              "      <td>6</td>\n",
              "      <td>214</td>\n",
              "    </tr>\n",
              "  </tbody>\n",
              "</table>\n",
              "</div>\n",
              "    <div class=\"colab-df-buttons\">\n",
              "\n",
              "  <div class=\"colab-df-container\">\n",
              "    <button class=\"colab-df-convert\" onclick=\"convertToInteractive('df-d91ae113-2630-489b-bb21-dcf5dda602de')\"\n",
              "            title=\"Convert this dataframe to an interactive table.\"\n",
              "            style=\"display:none;\">\n",
              "\n",
              "  <svg xmlns=\"http://www.w3.org/2000/svg\" height=\"24px\" viewBox=\"0 -960 960 960\">\n",
              "    <path d=\"M120-120v-720h720v720H120Zm60-500h600v-160H180v160Zm220 220h160v-160H400v160Zm0 220h160v-160H400v160ZM180-400h160v-160H180v160Zm440 0h160v-160H620v160ZM180-180h160v-160H180v160Zm440 0h160v-160H620v160Z\"/>\n",
              "  </svg>\n",
              "    </button>\n",
              "\n",
              "  <style>\n",
              "    .colab-df-container {\n",
              "      display:flex;\n",
              "      gap: 12px;\n",
              "    }\n",
              "\n",
              "    .colab-df-convert {\n",
              "      background-color: #E8F0FE;\n",
              "      border: none;\n",
              "      border-radius: 50%;\n",
              "      cursor: pointer;\n",
              "      display: none;\n",
              "      fill: #1967D2;\n",
              "      height: 32px;\n",
              "      padding: 0 0 0 0;\n",
              "      width: 32px;\n",
              "    }\n",
              "\n",
              "    .colab-df-convert:hover {\n",
              "      background-color: #E2EBFA;\n",
              "      box-shadow: 0px 1px 2px rgba(60, 64, 67, 0.3), 0px 1px 3px 1px rgba(60, 64, 67, 0.15);\n",
              "      fill: #174EA6;\n",
              "    }\n",
              "\n",
              "    .colab-df-buttons div {\n",
              "      margin-bottom: 4px;\n",
              "    }\n",
              "\n",
              "    [theme=dark] .colab-df-convert {\n",
              "      background-color: #3B4455;\n",
              "      fill: #D2E3FC;\n",
              "    }\n",
              "\n",
              "    [theme=dark] .colab-df-convert:hover {\n",
              "      background-color: #434B5C;\n",
              "      box-shadow: 0px 1px 3px 1px rgba(0, 0, 0, 0.15);\n",
              "      filter: drop-shadow(0px 1px 2px rgba(0, 0, 0, 0.3));\n",
              "      fill: #FFFFFF;\n",
              "    }\n",
              "  </style>\n",
              "\n",
              "    <script>\n",
              "      const buttonEl =\n",
              "        document.querySelector('#df-d91ae113-2630-489b-bb21-dcf5dda602de button.colab-df-convert');\n",
              "      buttonEl.style.display =\n",
              "        google.colab.kernel.accessAllowed ? 'block' : 'none';\n",
              "\n",
              "      async function convertToInteractive(key) {\n",
              "        const element = document.querySelector('#df-d91ae113-2630-489b-bb21-dcf5dda602de');\n",
              "        const dataTable =\n",
              "          await google.colab.kernel.invokeFunction('convertToInteractive',\n",
              "                                                    [key], {});\n",
              "        if (!dataTable) return;\n",
              "\n",
              "        const docLinkHtml = 'Like what you see? Visit the ' +\n",
              "          '<a target=\"_blank\" href=https://colab.research.google.com/notebooks/data_table.ipynb>data table notebook</a>'\n",
              "          + ' to learn more about interactive tables.';\n",
              "        element.innerHTML = '';\n",
              "        dataTable['output_type'] = 'display_data';\n",
              "        await google.colab.output.renderOutput(dataTable, element);\n",
              "        const docLink = document.createElement('div');\n",
              "        docLink.innerHTML = docLinkHtml;\n",
              "        element.appendChild(docLink);\n",
              "      }\n",
              "    </script>\n",
              "  </div>\n",
              "\n",
              "\n",
              "<div id=\"df-4f96101e-77dc-4531-926b-c42066512227\">\n",
              "  <button class=\"colab-df-quickchart\" onclick=\"quickchart('df-4f96101e-77dc-4531-926b-c42066512227')\"\n",
              "            title=\"Suggest charts\"\n",
              "            style=\"display:none;\">\n",
              "\n",
              "<svg xmlns=\"http://www.w3.org/2000/svg\" height=\"24px\"viewBox=\"0 0 24 24\"\n",
              "     width=\"24px\">\n",
              "    <g>\n",
              "        <path d=\"M19 3H5c-1.1 0-2 .9-2 2v14c0 1.1.9 2 2 2h14c1.1 0 2-.9 2-2V5c0-1.1-.9-2-2-2zM9 17H7v-7h2v7zm4 0h-2V7h2v10zm4 0h-2v-4h2v4z\"/>\n",
              "    </g>\n",
              "</svg>\n",
              "  </button>\n",
              "\n",
              "<style>\n",
              "  .colab-df-quickchart {\n",
              "      --bg-color: #E8F0FE;\n",
              "      --fill-color: #1967D2;\n",
              "      --hover-bg-color: #E2EBFA;\n",
              "      --hover-fill-color: #174EA6;\n",
              "      --disabled-fill-color: #AAA;\n",
              "      --disabled-bg-color: #DDD;\n",
              "  }\n",
              "\n",
              "  [theme=dark] .colab-df-quickchart {\n",
              "      --bg-color: #3B4455;\n",
              "      --fill-color: #D2E3FC;\n",
              "      --hover-bg-color: #434B5C;\n",
              "      --hover-fill-color: #FFFFFF;\n",
              "      --disabled-bg-color: #3B4455;\n",
              "      --disabled-fill-color: #666;\n",
              "  }\n",
              "\n",
              "  .colab-df-quickchart {\n",
              "    background-color: var(--bg-color);\n",
              "    border: none;\n",
              "    border-radius: 50%;\n",
              "    cursor: pointer;\n",
              "    display: none;\n",
              "    fill: var(--fill-color);\n",
              "    height: 32px;\n",
              "    padding: 0;\n",
              "    width: 32px;\n",
              "  }\n",
              "\n",
              "  .colab-df-quickchart:hover {\n",
              "    background-color: var(--hover-bg-color);\n",
              "    box-shadow: 0 1px 2px rgba(60, 64, 67, 0.3), 0 1px 3px 1px rgba(60, 64, 67, 0.15);\n",
              "    fill: var(--button-hover-fill-color);\n",
              "  }\n",
              "\n",
              "  .colab-df-quickchart-complete:disabled,\n",
              "  .colab-df-quickchart-complete:disabled:hover {\n",
              "    background-color: var(--disabled-bg-color);\n",
              "    fill: var(--disabled-fill-color);\n",
              "    box-shadow: none;\n",
              "  }\n",
              "\n",
              "  .colab-df-spinner {\n",
              "    border: 2px solid var(--fill-color);\n",
              "    border-color: transparent;\n",
              "    border-bottom-color: var(--fill-color);\n",
              "    animation:\n",
              "      spin 1s steps(1) infinite;\n",
              "  }\n",
              "\n",
              "  @keyframes spin {\n",
              "    0% {\n",
              "      border-color: transparent;\n",
              "      border-bottom-color: var(--fill-color);\n",
              "      border-left-color: var(--fill-color);\n",
              "    }\n",
              "    20% {\n",
              "      border-color: transparent;\n",
              "      border-left-color: var(--fill-color);\n",
              "      border-top-color: var(--fill-color);\n",
              "    }\n",
              "    30% {\n",
              "      border-color: transparent;\n",
              "      border-left-color: var(--fill-color);\n",
              "      border-top-color: var(--fill-color);\n",
              "      border-right-color: var(--fill-color);\n",
              "    }\n",
              "    40% {\n",
              "      border-color: transparent;\n",
              "      border-right-color: var(--fill-color);\n",
              "      border-top-color: var(--fill-color);\n",
              "    }\n",
              "    60% {\n",
              "      border-color: transparent;\n",
              "      border-right-color: var(--fill-color);\n",
              "    }\n",
              "    80% {\n",
              "      border-color: transparent;\n",
              "      border-right-color: var(--fill-color);\n",
              "      border-bottom-color: var(--fill-color);\n",
              "    }\n",
              "    90% {\n",
              "      border-color: transparent;\n",
              "      border-bottom-color: var(--fill-color);\n",
              "    }\n",
              "  }\n",
              "</style>\n",
              "\n",
              "  <script>\n",
              "    async function quickchart(key) {\n",
              "      const quickchartButtonEl =\n",
              "        document.querySelector('#' + key + ' button');\n",
              "      quickchartButtonEl.disabled = true;  // To prevent multiple clicks.\n",
              "      quickchartButtonEl.classList.add('colab-df-spinner');\n",
              "      try {\n",
              "        const charts = await google.colab.kernel.invokeFunction(\n",
              "            'suggestCharts', [key], {});\n",
              "      } catch (error) {\n",
              "        console.error('Error during call to suggestCharts:', error);\n",
              "      }\n",
              "      quickchartButtonEl.classList.remove('colab-df-spinner');\n",
              "      quickchartButtonEl.classList.add('colab-df-quickchart-complete');\n",
              "    }\n",
              "    (() => {\n",
              "      let quickchartButtonEl =\n",
              "        document.querySelector('#df-4f96101e-77dc-4531-926b-c42066512227 button');\n",
              "      quickchartButtonEl.style.display =\n",
              "        google.colab.kernel.accessAllowed ? 'block' : 'none';\n",
              "    })();\n",
              "  </script>\n",
              "</div>\n",
              "\n",
              "    </div>\n",
              "  </div>\n"
            ],
            "application/vnd.google.colaboratory.intrinsic+json": {
              "type": "dataframe",
              "variable_name": "unique_tile_dates",
              "summary": "{\n  \"name\": \"unique_tile_dates\",\n  \"rows\": 307,\n  \"fields\": [\n    {\n      \"column\": \"h\",\n      \"properties\": {\n        \"dtype\": \"number\",\n        \"std\": 1,\n        \"min\": 8,\n        \"max\": 12,\n        \"num_unique_values\": 5,\n        \"samples\": [\n          8,\n          12,\n          9\n        ],\n        \"semantic_type\": \"\",\n        \"description\": \"\"\n      }\n    },\n    {\n      \"column\": \"v\",\n      \"properties\": {\n        \"dtype\": \"number\",\n        \"std\": 0,\n        \"min\": 4,\n        \"max\": 6,\n        \"num_unique_values\": 3,\n        \"samples\": [\n          4,\n          5,\n          6\n        ],\n        \"semantic_type\": \"\",\n        \"description\": \"\"\n      }\n    },\n    {\n      \"column\": \"YEAR\",\n      \"properties\": {\n        \"dtype\": \"number\",\n        \"std\": 0,\n        \"min\": 2021,\n        \"max\": 2023,\n        \"num_unique_values\": 3,\n        \"samples\": [\n          2023,\n          2022,\n          2021\n        ],\n        \"semantic_type\": \"\",\n        \"description\": \"\"\n      }\n    },\n    {\n      \"column\": \"MONTH\",\n      \"properties\": {\n        \"dtype\": \"number\",\n        \"std\": 3,\n        \"min\": 1,\n        \"max\": 12,\n        \"num_unique_values\": 12,\n        \"samples\": [\n          3,\n          1,\n          7\n        ],\n        \"semantic_type\": \"\",\n        \"description\": \"\"\n      }\n    },\n    {\n      \"column\": \"occ\",\n      \"properties\": {\n        \"dtype\": \"number\",\n        \"std\": 63,\n        \"min\": 1,\n        \"max\": 219,\n        \"num_unique_values\": 115,\n        \"samples\": [\n          44,\n          211,\n          107\n        ],\n        \"semantic_type\": \"\",\n        \"description\": \"\"\n      }\n    }\n  ]\n}"
            }
          },
          "metadata": {},
          "execution_count": 41
        }
      ]
    },
    {
      "cell_type": "code",
      "source": [
        "from tqdm import tqdm\n",
        "import calendar\n",
        "tqdm.pandas()\n",
        "\n",
        "def down_batch(batch_tile_dates):\n",
        "  for idx, row in tqdm(batch_tile_dates.iterrows()):\n",
        "      h = row[\"h\"]\n",
        "      v = row[\"v\"]\n",
        "      year = row[\"YEAR\"]\n",
        "      month = row[\"MONTH\"]\n",
        "\n",
        "      foo, numDaysInMonth = calendar.monthrange(year, month)\n",
        "\n",
        "\n",
        "      today = f\"{year}-{str(month).zfill(2)}-01\"\n",
        "      enddate = f\"{year}-{str(month).zfill(2)}-{numDaysInMonth}\"\n",
        "\n",
        "      # tile format example: h11v03\n",
        "      tile_str = f\"h{int(h):02d}v{int(v):02d}\"\n",
        "\n",
        "      dm = downModis(\n",
        "          destinationFolder=destination_folder,\n",
        "          user=NASA_USER,\n",
        "          password=NASA_PASS,\n",
        "          tiles=tile_str,\n",
        "          path=\"MOLT\",\n",
        "          product=PRODUCT,\n",
        "          today=today,\n",
        "          enddate=enddate,\n",
        "          delta=0,\n",
        "          debug=False,\n",
        "          checkgdal=False\n",
        "      )\n",
        "      try:\n",
        "          dm.connect()\n",
        "          dm.downloadsAllDay()\n",
        "      except:\n",
        "          # no data on that day\n",
        "          pass\n",
        "\n",
        "  remove_suffix_in_MODIS_data(\"xml\")"
      ],
      "metadata": {
        "id": "wYZN6rhGORJT"
      },
      "execution_count": null,
      "outputs": []
    },
    {
      "cell_type": "code",
      "source": [
        "# convert to geotiff after bulk download\n",
        "def convert_MODIS_data_to_tiff():\n",
        "  for root, dirs, files in os.walk(destination_folder):\n",
        "    for f in files:\n",
        "      if f.endswith(\".hdf\"):\n",
        "        hdf_path = os.path.join(root, f)\n",
        "        convert_hdf_to_geotiff(hdf_path, \"250m 16 days NDVI\")\n",
        "\n",
        "  remove_suffix_in_MODIS_data(\"hdf\")\n",
        "  remove_suffix_in_MODIS_data(\"txt\")"
      ],
      "metadata": {
        "id": "46GFZJ0xkf7x"
      },
      "execution_count": null,
      "outputs": []
    },
    {
      "cell_type": "code",
      "source": [
        "# import random\n",
        "# import matplotlib.pyplot as plt\n",
        "# import tifffile\n",
        "\n",
        "# f = random.choice(os.listdir(\"./MODIS_data\"))\n",
        "\n",
        "# im = tifffile.imread(os.path.join(\"./MODIS_data\", f))\n",
        "\n",
        "# plt.imshow(im)\n",
        "# plt.title(f)\n",
        "# plt.show()"
      ],
      "metadata": {
        "colab": {
          "base_uri": "https://localhost:8080/",
          "height": 269
        },
        "id": "3mn4264AMfmE",
        "outputId": "dc9cf891-551b-48c0-b08c-226b073534e1"
      },
      "execution_count": null,
      "outputs": [
        {
          "output_type": "display_data",
          "data": {
            "text/plain": [
              "<Figure size 640x480 with 1 Axes>"
            ],
            "image/png": "[encoded data removed]"
          },
          "metadata": {}
        }
      ]
    },
    {
      "cell_type": "code",
      "source": [
        "def retrieve_ndvi_values():\n",
        "  ndvi_cnt = 0;\n",
        "  none_cnt = 0\n",
        "  ndvi_values = []\n",
        "  for idx, row in df.iterrows():\n",
        "      h, v = row[\"h\"], row[\"v\"]\n",
        "      yyyy, doy = int(row[\"YEAR\"]), int(row[\"doy\"])\n",
        "      lat, lon = row[\"LATDD83\"], row[\"LONGDD83\"]\n",
        "\n",
        "      geotiff_path = get_geotiff_path(h, v, yyyy, doy)\n",
        "      if geotiff_path is None:\n",
        "          none_cnt+=1\n",
        "          ndvi_values.append(None)\n",
        "          continue\n",
        "\n",
        "      ndvi_cnt+=1\n",
        "      val = sample_ndvi(geotiff_path, lat, lon)\n",
        "      ndvi_values.append(val)\n",
        "\n",
        "  df[\"NDVI\"] = ndvi_values\n",
        "  return ndvi_cnt, none_cnt"
      ],
      "metadata": {
        "id": "73NzlDni47Ai"
      },
      "execution_count": null,
      "outputs": []
    },
    {
      "cell_type": "code",
      "source": [
        "# NDVI values None: no data for this location (figure out how to handle this later)\n",
        "# NDVI values below 0: This indicates water or other non-vegetated features.\n",
        "# NDVI values between 0 and 0.3: This indicates barren areas with little to no vegetation cover.\n",
        "# NDVI values between 0.3 and 0.6: This indicates areas with sparse vegetation cover.\n",
        "# NDVI values between 0.6 and 0.9: This indicates areas with dense and healthy vegetation cover.\n",
        "# NDVI values above 0.9: This indicates areas with very dense vegetation cover, such as rainforests.\n",
        "# source: https://www.farm21.com/ndvi-images-ultimate-3-step-guide/\n",
        "\n",
        "BATCH_SIZE = 5 # default 5 higher prob work idk\n",
        "NUM_BATCHES =  math.ceil(len(unique_tile_dates)/BATCH_SIZE) # change this value. default: math.ceil(len(unique_tile_dates)/BATCH_SIZE)\n",
        "START_BATCH = 0 # default 0\n",
        "\n",
        "for batch_num in range(START_BATCH,NUM_BATCHES):\n",
        "  batch_tile_dates = unique_tile_dates[batch_num * BATCH_SIZE:(batch_num+1) * BATCH_SIZE]\n",
        "  down_batch(batch_tile_dates)\n",
        "  convert_MODIS_data_to_tiff()\n",
        "  ndvi_cnt,none_cnt = retrieve_ndvi_values()\n",
        "\n",
        "  # filtered_df = df[df.NDVI.notnull()]\n",
        "  # Now df has an NDVI column with the extracted values.\n",
        "  df.to_csv(f\"points_with_ndvi_batch_{batch_num}.csv\", index=False)\n",
        "  # print(\"none_cnt: \", none_cnt)\n",
        "  print(f\"Batch {batch_num} complete! with {ndvi_cnt} entries\")\n",
        "  remove_suffix_in_MODIS_data(\"tif\")\n",
        "\n"
      ],
      "metadata": {
        "colab": {
          "base_uri": "https://localhost:8080/"
        },
        "collapsed": true,
        "id": "0ur978cpwQ2t",
        "outputId": "1975a26b-c47f-489d-fe22-72e58aa07bc9"
      },
      "execution_count": 53,
      "outputs": [
        {
          "output_type": "stream",
          "name": "stderr",
          "text": [
            "5it [01:57, 23.49s/it]\n"
          ]
        },
        {
          "output_type": "stream",
          "name": "stdout",
          "text": [
            "Batch 0 complete! with 986 entries\n"
          ]
        },
        {
          "output_type": "stream",
          "name": "stderr",
          "text": [
            "5it [01:54, 22.81s/it]\n"
          ]
        },
        {
          "output_type": "stream",
          "name": "stdout",
          "text": [
            "Batch 1 complete! with 1095 entries\n"
          ]
        },
        {
          "output_type": "stream",
          "name": "stderr",
          "text": [
            "5it [01:49, 21.80s/it]\n"
          ]
        },
        {
          "output_type": "stream",
          "name": "stdout",
          "text": [
            "Batch 2 complete! with 1053 entries\n"
          ]
        },
        {
          "output_type": "stream",
          "name": "stderr",
          "text": [
            "5it [01:56, 23.34s/it]\n"
          ]
        },
        {
          "output_type": "stream",
          "name": "stdout",
          "text": [
            "Batch 3 complete! with 1057 entries\n"
          ]
        },
        {
          "output_type": "stream",
          "name": "stderr",
          "text": [
            "5it [01:52, 22.49s/it]\n"
          ]
        },
        {
          "output_type": "stream",
          "name": "stdout",
          "text": [
            "Batch 4 complete! with 912 entries\n"
          ]
        },
        {
          "output_type": "stream",
          "name": "stderr",
          "text": [
            "5it [01:48, 21.68s/it]\n"
          ]
        },
        {
          "output_type": "stream",
          "name": "stdout",
          "text": [
            "Batch 5 complete! with 1026 entries\n"
          ]
        },
        {
          "output_type": "stream",
          "name": "stderr",
          "text": [
            "5it [01:57, 23.54s/it]\n"
          ]
        },
        {
          "output_type": "stream",
          "name": "stdout",
          "text": [
            "Batch 6 complete! with 887 entries\n"
          ]
        },
        {
          "output_type": "stream",
          "name": "stderr",
          "text": [
            "5it [01:47, 21.45s/it]\n"
          ]
        },
        {
          "output_type": "stream",
          "name": "stdout",
          "text": [
            "Batch 7 complete! with 696 entries\n"
          ]
        },
        {
          "output_type": "stream",
          "name": "stderr",
          "text": [
            "5it [01:39, 19.94s/it]\n"
          ]
        },
        {
          "output_type": "stream",
          "name": "stdout",
          "text": [
            "Batch 8 complete! with 615 entries\n"
          ]
        },
        {
          "output_type": "stream",
          "name": "stderr",
          "text": [
            "5it [01:34, 18.86s/it]\n"
          ]
        },
        {
          "output_type": "stream",
          "name": "stdout",
          "text": [
            "Batch 9 complete! with 614 entries\n"
          ]
        },
        {
          "output_type": "stream",
          "name": "stderr",
          "text": [
            "5it [01:38, 19.64s/it]\n"
          ]
        },
        {
          "output_type": "stream",
          "name": "stdout",
          "text": [
            "Batch 10 complete! with 592 entries\n"
          ]
        },
        {
          "output_type": "stream",
          "name": "stderr",
          "text": [
            "5it [01:17, 15.43s/it]\n"
          ]
        },
        {
          "output_type": "stream",
          "name": "stdout",
          "text": [
            "Batch 11 complete! with 471 entries\n"
          ]
        },
        {
          "output_type": "stream",
          "name": "stderr",
          "text": [
            "5it [01:44, 20.90s/it]\n"
          ]
        },
        {
          "output_type": "stream",
          "name": "stdout",
          "text": [
            "Batch 12 complete! with 576 entries\n"
          ]
        },
        {
          "output_type": "stream",
          "name": "stderr",
          "text": [
            "5it [01:21, 16.40s/it]\n"
          ]
        },
        {
          "output_type": "stream",
          "name": "stdout",
          "text": [
            "Batch 13 complete! with 479 entries\n"
          ]
        },
        {
          "output_type": "stream",
          "name": "stderr",
          "text": [
            "5it [01:43, 20.75s/it]\n"
          ]
        },
        {
          "output_type": "stream",
          "name": "stdout",
          "text": [
            "Batch 14 complete! with 537 entries\n"
          ]
        },
        {
          "output_type": "stream",
          "name": "stderr",
          "text": [
            "5it [01:31, 18.23s/it]\n"
          ]
        },
        {
          "output_type": "stream",
          "name": "stdout",
          "text": [
            "Batch 15 complete! with 524 entries\n"
          ]
        },
        {
          "output_type": "stream",
          "name": "stderr",
          "text": [
            "5it [01:34, 18.81s/it]\n"
          ]
        },
        {
          "output_type": "stream",
          "name": "stdout",
          "text": [
            "Batch 16 complete! with 469 entries\n"
          ]
        },
        {
          "output_type": "stream",
          "name": "stderr",
          "text": [
            "5it [01:41, 20.27s/it]\n"
          ]
        },
        {
          "output_type": "stream",
          "name": "stdout",
          "text": [
            "Batch 17 complete! with 526 entries\n"
          ]
        },
        {
          "output_type": "stream",
          "name": "stderr",
          "text": [
            "5it [01:25, 17.05s/it]\n"
          ]
        },
        {
          "output_type": "stream",
          "name": "stdout",
          "text": [
            "Batch 18 complete! with 420 entries\n"
          ]
        },
        {
          "output_type": "stream",
          "name": "stderr",
          "text": [
            "5it [01:55, 23.06s/it]\n"
          ]
        },
        {
          "output_type": "stream",
          "name": "stdout",
          "text": [
            "Batch 19 complete! with 465 entries\n"
          ]
        },
        {
          "output_type": "stream",
          "name": "stderr",
          "text": [
            "5it [01:53, 22.69s/it]\n"
          ]
        },
        {
          "output_type": "stream",
          "name": "stdout",
          "text": [
            "Batch 20 complete! with 471 entries\n"
          ]
        },
        {
          "output_type": "stream",
          "name": "stderr",
          "text": [
            "5it [02:00, 24.03s/it]\n"
          ]
        },
        {
          "output_type": "stream",
          "name": "stdout",
          "text": [
            "Batch 21 complete! with 405 entries\n"
          ]
        },
        {
          "output_type": "stream",
          "name": "stderr",
          "text": [
            "5it [01:37, 19.44s/it]\n"
          ]
        },
        {
          "output_type": "stream",
          "name": "stdout",
          "text": [
            "Batch 22 complete! with 483 entries\n"
          ]
        },
        {
          "output_type": "stream",
          "name": "stderr",
          "text": [
            "5it [02:04, 24.87s/it]\n"
          ]
        },
        {
          "output_type": "stream",
          "name": "stdout",
          "text": [
            "Batch 23 complete! with 354 entries\n"
          ]
        },
        {
          "output_type": "stream",
          "name": "stderr",
          "text": [
            "5it [01:29, 17.97s/it]\n"
          ]
        },
        {
          "output_type": "stream",
          "name": "stdout",
          "text": [
            "Batch 24 complete! with 456 entries\n"
          ]
        },
        {
          "output_type": "stream",
          "name": "stderr",
          "text": [
            "5it [01:41, 20.27s/it]\n"
          ]
        },
        {
          "output_type": "stream",
          "name": "stdout",
          "text": [
            "Batch 25 complete! with 387 entries\n"
          ]
        },
        {
          "output_type": "stream",
          "name": "stderr",
          "text": [
            "5it [01:49, 21.98s/it]\n"
          ]
        },
        {
          "output_type": "stream",
          "name": "stdout",
          "text": [
            "Batch 26 complete! with 440 entries\n"
          ]
        },
        {
          "output_type": "stream",
          "name": "stderr",
          "text": [
            "5it [01:52, 22.47s/it]\n"
          ]
        },
        {
          "output_type": "stream",
          "name": "stdout",
          "text": [
            "Batch 27 complete! with 429 entries\n"
          ]
        },
        {
          "output_type": "stream",
          "name": "stderr",
          "text": [
            "5it [01:38, 19.69s/it]\n"
          ]
        },
        {
          "output_type": "stream",
          "name": "stdout",
          "text": [
            "Batch 28 complete! with 373 entries\n"
          ]
        },
        {
          "output_type": "stream",
          "name": "stderr",
          "text": [
            "5it [01:47, 21.52s/it]\n"
          ]
        },
        {
          "output_type": "stream",
          "name": "stdout",
          "text": [
            "Batch 29 complete! with 252 entries\n"
          ]
        },
        {
          "output_type": "stream",
          "name": "stderr",
          "text": [
            "5it [01:56, 23.28s/it]\n"
          ]
        },
        {
          "output_type": "stream",
          "name": "stdout",
          "text": [
            "Batch 30 complete! with 263 entries\n"
          ]
        },
        {
          "output_type": "stream",
          "name": "stderr",
          "text": [
            "5it [01:49, 21.89s/it]\n"
          ]
        },
        {
          "output_type": "stream",
          "name": "stdout",
          "text": [
            "Batch 31 complete! with 217 entries\n"
          ]
        },
        {
          "output_type": "stream",
          "name": "stderr",
          "text": [
            "5it [01:34, 18.82s/it]\n"
          ]
        },
        {
          "output_type": "stream",
          "name": "stdout",
          "text": [
            "Batch 32 complete! with 204 entries\n"
          ]
        },
        {
          "output_type": "stream",
          "name": "stderr",
          "text": [
            "5it [01:45, 21.10s/it]\n"
          ]
        },
        {
          "output_type": "stream",
          "name": "stdout",
          "text": [
            "Batch 33 complete! with 197 entries\n"
          ]
        },
        {
          "output_type": "stream",
          "name": "stderr",
          "text": [
            "5it [01:23, 16.70s/it]\n"
          ]
        },
        {
          "output_type": "stream",
          "name": "stdout",
          "text": [
            "Batch 34 complete! with 153 entries\n"
          ]
        },
        {
          "output_type": "stream",
          "name": "stderr",
          "text": [
            "5it [01:56, 23.31s/it]\n"
          ]
        },
        {
          "output_type": "stream",
          "name": "stdout",
          "text": [
            "Batch 35 complete! with 160 entries\n"
          ]
        },
        {
          "output_type": "stream",
          "name": "stderr",
          "text": [
            "5it [00:44,  8.84s/it]\n"
          ]
        },
        {
          "output_type": "stream",
          "name": "stdout",
          "text": [
            "Batch 36 complete! with 77 entries\n"
          ]
        },
        {
          "output_type": "stream",
          "name": "stderr",
          "text": [
            "5it [00:47,  9.42s/it]\n"
          ]
        },
        {
          "output_type": "stream",
          "name": "stdout",
          "text": [
            "Batch 37 complete! with 86 entries\n"
          ]
        },
        {
          "output_type": "stream",
          "name": "stderr",
          "text": [
            "5it [00:42,  8.52s/it]\n"
          ]
        },
        {
          "output_type": "stream",
          "name": "stdout",
          "text": [
            "Batch 38 complete! with 66 entries\n"
          ]
        },
        {
          "output_type": "stream",
          "name": "stderr",
          "text": [
            "5it [00:44,  8.82s/it]\n"
          ]
        },
        {
          "output_type": "stream",
          "name": "stdout",
          "text": [
            "Batch 39 complete! with 75 entries\n"
          ]
        },
        {
          "output_type": "stream",
          "name": "stderr",
          "text": [
            "5it [01:59, 23.81s/it]\n"
          ]
        },
        {
          "output_type": "stream",
          "name": "stdout",
          "text": [
            "Batch 40 complete! with 60 entries\n"
          ]
        },
        {
          "output_type": "stream",
          "name": "stderr",
          "text": [
            "5it [01:07, 13.58s/it]\n"
          ]
        },
        {
          "output_type": "stream",
          "name": "stdout",
          "text": [
            "Batch 41 complete! with 60 entries\n"
          ]
        },
        {
          "output_type": "stream",
          "name": "stderr",
          "text": [
            "5it [01:19, 15.84s/it]\n"
          ]
        },
        {
          "output_type": "stream",
          "name": "stdout",
          "text": [
            "Batch 42 complete! with 54 entries\n"
          ]
        },
        {
          "output_type": "stream",
          "name": "stderr",
          "text": [
            "5it [02:18, 27.78s/it]\n"
          ]
        },
        {
          "output_type": "stream",
          "name": "stdout",
          "text": [
            "Batch 43 complete! with 50 entries\n"
          ]
        },
        {
          "output_type": "stream",
          "name": "stderr",
          "text": [
            "5it [03:49, 45.87s/it]\n"
          ]
        },
        {
          "output_type": "stream",
          "name": "stdout",
          "text": [
            "Batch 44 complete! with 39 entries\n"
          ]
        },
        {
          "output_type": "stream",
          "name": "stderr",
          "text": [
            "5it [03:45, 45.11s/it]\n"
          ]
        },
        {
          "output_type": "stream",
          "name": "stdout",
          "text": [
            "Batch 45 complete! with 44 entries\n"
          ]
        },
        {
          "output_type": "stream",
          "name": "stderr",
          "text": [
            "5it [02:06, 25.28s/it]\n"
          ]
        },
        {
          "output_type": "stream",
          "name": "stdout",
          "text": [
            "Batch 46 complete! with 40 entries\n"
          ]
        },
        {
          "output_type": "stream",
          "name": "stderr",
          "text": [
            "5it [04:47, 57.51s/it]\n"
          ]
        },
        {
          "output_type": "stream",
          "name": "stdout",
          "text": [
            "Batch 47 complete! with 37 entries\n"
          ]
        },
        {
          "output_type": "stream",
          "name": "stderr",
          "text": [
            "5it [02:06, 25.38s/it]\n"
          ]
        },
        {
          "output_type": "stream",
          "name": "stdout",
          "text": [
            "Batch 48 complete! with 25 entries\n"
          ]
        },
        {
          "output_type": "stream",
          "name": "stderr",
          "text": [
            "5it [01:49, 21.81s/it]\n"
          ]
        },
        {
          "output_type": "stream",
          "name": "stdout",
          "text": [
            "Batch 49 complete! with 25 entries\n"
          ]
        },
        {
          "output_type": "stream",
          "name": "stderr",
          "text": [
            "5it [02:21, 28.24s/it]\n"
          ]
        },
        {
          "output_type": "stream",
          "name": "stdout",
          "text": [
            "Batch 50 complete! with 25 entries\n"
          ]
        },
        {
          "output_type": "stream",
          "name": "stderr",
          "text": [
            "5it [00:52, 10.60s/it]\n"
          ]
        },
        {
          "output_type": "stream",
          "name": "stdout",
          "text": [
            "Batch 51 complete! with 15 entries\n"
          ]
        },
        {
          "output_type": "stream",
          "name": "stderr",
          "text": [
            "5it [01:16, 15.22s/it]\n"
          ]
        },
        {
          "output_type": "stream",
          "name": "stdout",
          "text": [
            "Batch 52 complete! with 15 entries\n"
          ]
        },
        {
          "output_type": "stream",
          "name": "stderr",
          "text": [
            "5it [01:54, 22.86s/it]\n"
          ]
        },
        {
          "output_type": "stream",
          "name": "stdout",
          "text": [
            "Batch 53 complete! with 10 entries\n"
          ]
        },
        {
          "output_type": "stream",
          "name": "stderr",
          "text": [
            "5it [02:38, 31.64s/it]\n"
          ]
        },
        {
          "output_type": "stream",
          "name": "stdout",
          "text": [
            "Batch 54 complete! with 13 entries\n"
          ]
        },
        {
          "output_type": "stream",
          "name": "stderr",
          "text": [
            "5it [01:03, 12.73s/it]\n"
          ]
        },
        {
          "output_type": "stream",
          "name": "stdout",
          "text": [
            "Batch 55 complete! with 14 entries\n"
          ]
        },
        {
          "output_type": "stream",
          "name": "stderr",
          "text": [
            "5it [00:55, 11.10s/it]\n"
          ]
        },
        {
          "output_type": "stream",
          "name": "stdout",
          "text": [
            "Batch 56 complete! with 9 entries\n"
          ]
        },
        {
          "output_type": "stream",
          "name": "stderr",
          "text": [
            "5it [02:19, 27.97s/it]\n"
          ]
        },
        {
          "output_type": "stream",
          "name": "stdout",
          "text": [
            "Batch 57 complete! with 4 entries\n"
          ]
        },
        {
          "output_type": "stream",
          "name": "stderr",
          "text": [
            "5it [01:57, 23.50s/it]\n"
          ]
        },
        {
          "output_type": "stream",
          "name": "stdout",
          "text": [
            "Batch 58 complete! with 4 entries\n"
          ]
        },
        {
          "output_type": "stream",
          "name": "stderr",
          "text": [
            "5it [02:01, 24.39s/it]\n"
          ]
        },
        {
          "output_type": "stream",
          "name": "stdout",
          "text": [
            "Batch 59 complete! with 6 entries\n"
          ]
        },
        {
          "output_type": "stream",
          "name": "stderr",
          "text": [
            "5it [01:39, 19.82s/it]\n"
          ]
        },
        {
          "output_type": "stream",
          "name": "stdout",
          "text": [
            "Batch 60 complete! with 5 entries\n"
          ]
        },
        {
          "output_type": "stream",
          "name": "stderr",
          "text": [
            "2it [00:28, 14.16s/it]\n"
          ]
        },
        {
          "output_type": "stream",
          "name": "stdout",
          "text": [
            "Batch 61 complete! with 2 entries\n"
          ]
        }
      ]
    },
    {
      "cell_type": "code",
      "source": [
        "# After every batch pls rm -rf MODIS_data each file is like 30-100 MB\n",
        "\n",
        "# !rm -rf MODIS_data\n",
        "# os.makedirs(destination_folder, exist_ok=True)\n",
        "# print(\"occ sum: \", unique_tile_dates[0:5]['occ'].sum())"
      ],
      "metadata": {
        "id": "nzKDCm65Wgnq"
      },
      "execution_count": 47,
      "outputs": []
    }
  ]
}